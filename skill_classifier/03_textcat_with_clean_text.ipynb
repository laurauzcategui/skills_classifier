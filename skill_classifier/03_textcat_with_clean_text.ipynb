{
 "cells": [
  {
   "cell_type": "markdown",
   "id": "90b99c95",
   "metadata": {
    "id": "90b99c95"
   },
   "source": [
    "## Let's build a TextCategorizer Model using spaCy\n",
    "\n",
    "- This time the model will remove punctuaction and stopwords"
   ]
  },
  {
   "cell_type": "code",
   "execution_count": null,
   "id": "06ac01a3",
   "metadata": {
    "id": "06ac01a3"
   },
   "outputs": [],
   "source": [
    "import pandas as pd \n",
    "import spacy\n",
    "from spacy.tokens import Doc, DocBin\n",
    "import os"
   ]
  },
  {
   "cell_type": "code",
   "execution_count": null,
   "id": "7AbwVkT55_AI",
   "metadata": {
    "id": "7AbwVkT55_AI"
   },
   "outputs": [],
   "source": [
    "RUN_IN_COLAB = 'google.colab' in str(get_ipython())"
   ]
  },
  {
   "cell_type": "code",
   "execution_count": null,
   "id": "7PbtcO3I6Cx0",
   "metadata": {
    "colab": {
     "base_uri": "https://localhost:8080/"
    },
    "id": "7PbtcO3I6Cx0",
    "outputId": "933ed7b5-0b88-487f-f949-9edc8306c89e"
   },
   "outputs": [
    {
     "name": "stdout",
     "output_type": "stream",
     "text": [
      "Looking in indexes: https://pypi.org/simple, https://us-python.pkg.dev/colab-wheels/public/simple/\n",
      "Collecting de-core-news-lg==3.4.0\n",
      "  Downloading https://github.com/explosion/spacy-models/releases/download/de_core_news_lg-3.4.0/de_core_news_lg-3.4.0-py3-none-any.whl (567.8 MB)\n",
      "\u001b[K     |████████████████████████████████| 567.8 MB 18 kB/s \n",
      "\u001b[?25hRequirement already satisfied: spacy<3.5.0,>=3.4.0 in /usr/local/lib/python3.8/dist-packages (from de-core-news-lg==3.4.0) (3.4.4)\n",
      "Requirement already satisfied: spacy-legacy<3.1.0,>=3.0.10 in /usr/local/lib/python3.8/dist-packages (from spacy<3.5.0,>=3.4.0->de-core-news-lg==3.4.0) (3.0.10)\n",
      "Requirement already satisfied: cymem<2.1.0,>=2.0.2 in /usr/local/lib/python3.8/dist-packages (from spacy<3.5.0,>=3.4.0->de-core-news-lg==3.4.0) (2.0.7)\n",
      "Requirement already satisfied: thinc<8.2.0,>=8.1.0 in /usr/local/lib/python3.8/dist-packages (from spacy<3.5.0,>=3.4.0->de-core-news-lg==3.4.0) (8.1.5)\n",
      "Requirement already satisfied: jinja2 in /usr/local/lib/python3.8/dist-packages (from spacy<3.5.0,>=3.4.0->de-core-news-lg==3.4.0) (2.11.3)\n",
      "Requirement already satisfied: pydantic!=1.8,!=1.8.1,<1.11.0,>=1.7.4 in /usr/local/lib/python3.8/dist-packages (from spacy<3.5.0,>=3.4.0->de-core-news-lg==3.4.0) (1.10.2)\n",
      "Requirement already satisfied: typer<0.8.0,>=0.3.0 in /usr/local/lib/python3.8/dist-packages (from spacy<3.5.0,>=3.4.0->de-core-news-lg==3.4.0) (0.7.0)\n",
      "Requirement already satisfied: smart-open<7.0.0,>=5.2.1 in /usr/local/lib/python3.8/dist-packages (from spacy<3.5.0,>=3.4.0->de-core-news-lg==3.4.0) (6.3.0)\n",
      "Requirement already satisfied: requests<3.0.0,>=2.13.0 in /usr/local/lib/python3.8/dist-packages (from spacy<3.5.0,>=3.4.0->de-core-news-lg==3.4.0) (2.23.0)\n",
      "Requirement already satisfied: catalogue<2.1.0,>=2.0.6 in /usr/local/lib/python3.8/dist-packages (from spacy<3.5.0,>=3.4.0->de-core-news-lg==3.4.0) (2.0.8)\n",
      "Requirement already satisfied: wasabi<1.1.0,>=0.9.1 in /usr/local/lib/python3.8/dist-packages (from spacy<3.5.0,>=3.4.0->de-core-news-lg==3.4.0) (0.10.1)\n",
      "Requirement already satisfied: pathy>=0.3.5 in /usr/local/lib/python3.8/dist-packages (from spacy<3.5.0,>=3.4.0->de-core-news-lg==3.4.0) (0.10.1)\n",
      "Requirement already satisfied: langcodes<4.0.0,>=3.2.0 in /usr/local/lib/python3.8/dist-packages (from spacy<3.5.0,>=3.4.0->de-core-news-lg==3.4.0) (3.3.0)\n",
      "Requirement already satisfied: setuptools in /usr/local/lib/python3.8/dist-packages (from spacy<3.5.0,>=3.4.0->de-core-news-lg==3.4.0) (57.4.0)\n",
      "Requirement already satisfied: spacy-loggers<2.0.0,>=1.0.0 in /usr/local/lib/python3.8/dist-packages (from spacy<3.5.0,>=3.4.0->de-core-news-lg==3.4.0) (1.0.4)\n",
      "Requirement already satisfied: preshed<3.1.0,>=3.0.2 in /usr/local/lib/python3.8/dist-packages (from spacy<3.5.0,>=3.4.0->de-core-news-lg==3.4.0) (3.0.8)\n",
      "Requirement already satisfied: numpy>=1.15.0 in /usr/local/lib/python3.8/dist-packages (from spacy<3.5.0,>=3.4.0->de-core-news-lg==3.4.0) (1.21.6)\n",
      "Requirement already satisfied: srsly<3.0.0,>=2.4.3 in /usr/local/lib/python3.8/dist-packages (from spacy<3.5.0,>=3.4.0->de-core-news-lg==3.4.0) (2.4.5)\n",
      "Requirement already satisfied: murmurhash<1.1.0,>=0.28.0 in /usr/local/lib/python3.8/dist-packages (from spacy<3.5.0,>=3.4.0->de-core-news-lg==3.4.0) (1.0.9)\n",
      "Requirement already satisfied: tqdm<5.0.0,>=4.38.0 in /usr/local/lib/python3.8/dist-packages (from spacy<3.5.0,>=3.4.0->de-core-news-lg==3.4.0) (4.64.1)\n",
      "Requirement already satisfied: packaging>=20.0 in /usr/local/lib/python3.8/dist-packages (from spacy<3.5.0,>=3.4.0->de-core-news-lg==3.4.0) (21.3)\n",
      "Requirement already satisfied: pyparsing!=3.0.5,>=2.0.2 in /usr/local/lib/python3.8/dist-packages (from packaging>=20.0->spacy<3.5.0,>=3.4.0->de-core-news-lg==3.4.0) (3.0.9)\n",
      "Requirement already satisfied: typing-extensions>=4.1.0 in /usr/local/lib/python3.8/dist-packages (from pydantic!=1.8,!=1.8.1,<1.11.0,>=1.7.4->spacy<3.5.0,>=3.4.0->de-core-news-lg==3.4.0) (4.4.0)\n",
      "Requirement already satisfied: urllib3!=1.25.0,!=1.25.1,<1.26,>=1.21.1 in /usr/local/lib/python3.8/dist-packages (from requests<3.0.0,>=2.13.0->spacy<3.5.0,>=3.4.0->de-core-news-lg==3.4.0) (1.24.3)\n",
      "Requirement already satisfied: certifi>=2017.4.17 in /usr/local/lib/python3.8/dist-packages (from requests<3.0.0,>=2.13.0->spacy<3.5.0,>=3.4.0->de-core-news-lg==3.4.0) (2022.12.7)\n",
      "Requirement already satisfied: chardet<4,>=3.0.2 in /usr/local/lib/python3.8/dist-packages (from requests<3.0.0,>=2.13.0->spacy<3.5.0,>=3.4.0->de-core-news-lg==3.4.0) (3.0.4)\n",
      "Requirement already satisfied: idna<3,>=2.5 in /usr/local/lib/python3.8/dist-packages (from requests<3.0.0,>=2.13.0->spacy<3.5.0,>=3.4.0->de-core-news-lg==3.4.0) (2.10)\n",
      "Requirement already satisfied: blis<0.8.0,>=0.7.8 in /usr/local/lib/python3.8/dist-packages (from thinc<8.2.0,>=8.1.0->spacy<3.5.0,>=3.4.0->de-core-news-lg==3.4.0) (0.7.9)\n",
      "Requirement already satisfied: confection<1.0.0,>=0.0.1 in /usr/local/lib/python3.8/dist-packages (from thinc<8.2.0,>=8.1.0->spacy<3.5.0,>=3.4.0->de-core-news-lg==3.4.0) (0.0.3)\n",
      "Requirement already satisfied: click<9.0.0,>=7.1.1 in /usr/local/lib/python3.8/dist-packages (from typer<0.8.0,>=0.3.0->spacy<3.5.0,>=3.4.0->de-core-news-lg==3.4.0) (7.1.2)\n",
      "Requirement already satisfied: MarkupSafe>=0.23 in /usr/local/lib/python3.8/dist-packages (from jinja2->spacy<3.5.0,>=3.4.0->de-core-news-lg==3.4.0) (2.0.1)\n",
      "Installing collected packages: de-core-news-lg\n",
      "Successfully installed de-core-news-lg-3.4.0\n",
      "\u001b[38;5;2m✔ Download and installation successful\u001b[0m\n",
      "You can now load the package via spacy.load('de_core_news_lg')\n"
     ]
    }
   ],
   "source": [
    "if RUN_IN_COLAB:\n",
    "  !python -m spacy download de_core_news_lg"
   ]
  },
  {
   "cell_type": "code",
   "execution_count": null,
   "id": "2i8QE9-r6iKM",
   "metadata": {
    "id": "2i8QE9-r6iKM"
   },
   "outputs": [],
   "source": [
    "# TODO: Remove\n",
    "def load_model(name): \n",
    "    nlp = spacy.load(name)\n",
    "    de_stop_words = nlp.Defaults.stop_words\n",
    "    return nlp, de_stop_words\n",
    "\n",
    "!mkdir -p ./data/processed/clean"
   ]
  },
  {
   "cell_type": "code",
   "execution_count": null,
   "id": "75423d9b",
   "metadata": {
    "id": "75423d9b"
   },
   "outputs": [],
   "source": [
    "large_model = \"de_core_news_lg\"\n",
    "\n",
    "nlp, stop_words = load_model(large_model)"
   ]
  },
  {
   "cell_type": "code",
   "execution_count": null,
   "id": "462806e8",
   "metadata": {
    "id": "462806e8"
   },
   "outputs": [],
   "source": [
    "# Read training and dev datasets splits\n",
    "BASE_PATH = os.path.join(\"./data/processed/clean\")\n",
    "\n",
    "def get_split(split, base_path=BASE_PATH): \n",
    "    return pd.read_csv(os.path.join(base_path, f\"{split}.csv\"))"
   ]
  },
  {
   "cell_type": "code",
   "execution_count": null,
   "id": "3a45dae1",
   "metadata": {
    "colab": {
     "base_uri": "https://localhost:8080/",
     "height": 237
    },
    "id": "3a45dae1",
    "outputId": "9e55d86e-ab21-427a-ca4c-b3defeb410d2"
   },
   "outputs": [
    {
     "data": {
      "text/html": [
       "\n",
       "  <div id=\"df-5bd60b19-a547-4ab0-9866-3911fd74a3be\">\n",
       "    <div class=\"colab-df-container\">\n",
       "      <div>\n",
       "<style scoped>\n",
       "    .dataframe tbody tr th:only-of-type {\n",
       "        vertical-align: middle;\n",
       "    }\n",
       "\n",
       "    .dataframe tbody tr th {\n",
       "        vertical-align: top;\n",
       "    }\n",
       "\n",
       "    .dataframe thead th {\n",
       "        text-align: right;\n",
       "    }\n",
       "</style>\n",
       "<table border=\"1\" class=\"dataframe\">\n",
       "  <thead>\n",
       "    <tr style=\"text-align: right;\">\n",
       "      <th></th>\n",
       "      <th>text</th>\n",
       "      <th>tokens</th>\n",
       "      <th>tokens_norm</th>\n",
       "      <th>text_proc</th>\n",
       "      <th>cats</th>\n",
       "      <th>label</th>\n",
       "    </tr>\n",
       "  </thead>\n",
       "  <tbody>\n",
       "    <tr>\n",
       "      <th>0</th>\n",
       "      <td>Blogs Foto Video Leserartikel Print-Archiv Sch...</td>\n",
       "      <td>[Blogs, Foto, Video, Leserartikel, Print-Archi...</td>\n",
       "      <td>['blog', 'foto', 'video', 'leserartikel', 'pri...</td>\n",
       "      <td>blog foto video leserartikel print-archiv schl...</td>\n",
       "      <td>{'tech': False, 'soft': False, 'none': True}</td>\n",
       "      <td>none</td>\n",
       "    </tr>\n",
       "    <tr>\n",
       "      <th>1</th>\n",
       "      <td>Braunschweig</td>\n",
       "      <td>[Braunschweig]</td>\n",
       "      <td>['braunschweig']</td>\n",
       "      <td>braunschweig</td>\n",
       "      <td>{'tech': False, 'soft': False, 'none': True}</td>\n",
       "      <td>none</td>\n",
       "    </tr>\n",
       "    <tr>\n",
       "      <th>2</th>\n",
       "      <td>Kenntnisse im Bereich Enterprise Architecture ...</td>\n",
       "      <td>[Kenntnisse, im, Bereich, Enterprise, Architec...</td>\n",
       "      <td>['kenntnis', 'bereich', 'enterprise', 'archite...</td>\n",
       "      <td>kenntnis bereich enterprise architecture manag...</td>\n",
       "      <td>{'tech': True, 'soft': False, 'none': False}</td>\n",
       "      <td>tech</td>\n",
       "    </tr>\n",
       "  </tbody>\n",
       "</table>\n",
       "</div>\n",
       "      <button class=\"colab-df-convert\" onclick=\"convertToInteractive('df-5bd60b19-a547-4ab0-9866-3911fd74a3be')\"\n",
       "              title=\"Convert this dataframe to an interactive table.\"\n",
       "              style=\"display:none;\">\n",
       "        \n",
       "  <svg xmlns=\"http://www.w3.org/2000/svg\" height=\"24px\"viewBox=\"0 0 24 24\"\n",
       "       width=\"24px\">\n",
       "    <path d=\"M0 0h24v24H0V0z\" fill=\"none\"/>\n",
       "    <path d=\"M18.56 5.44l.94 2.06.94-2.06 2.06-.94-2.06-.94-.94-2.06-.94 2.06-2.06.94zm-11 1L8.5 8.5l.94-2.06 2.06-.94-2.06-.94L8.5 2.5l-.94 2.06-2.06.94zm10 10l.94 2.06.94-2.06 2.06-.94-2.06-.94-.94-2.06-.94 2.06-2.06.94z\"/><path d=\"M17.41 7.96l-1.37-1.37c-.4-.4-.92-.59-1.43-.59-.52 0-1.04.2-1.43.59L10.3 9.45l-7.72 7.72c-.78.78-.78 2.05 0 2.83L4 21.41c.39.39.9.59 1.41.59.51 0 1.02-.2 1.41-.59l7.78-7.78 2.81-2.81c.8-.78.8-2.07 0-2.86zM5.41 20L4 18.59l7.72-7.72 1.47 1.35L5.41 20z\"/>\n",
       "  </svg>\n",
       "      </button>\n",
       "      \n",
       "  <style>\n",
       "    .colab-df-container {\n",
       "      display:flex;\n",
       "      flex-wrap:wrap;\n",
       "      gap: 12px;\n",
       "    }\n",
       "\n",
       "    .colab-df-convert {\n",
       "      background-color: #E8F0FE;\n",
       "      border: none;\n",
       "      border-radius: 50%;\n",
       "      cursor: pointer;\n",
       "      display: none;\n",
       "      fill: #1967D2;\n",
       "      height: 32px;\n",
       "      padding: 0 0 0 0;\n",
       "      width: 32px;\n",
       "    }\n",
       "\n",
       "    .colab-df-convert:hover {\n",
       "      background-color: #E2EBFA;\n",
       "      box-shadow: 0px 1px 2px rgba(60, 64, 67, 0.3), 0px 1px 3px 1px rgba(60, 64, 67, 0.15);\n",
       "      fill: #174EA6;\n",
       "    }\n",
       "\n",
       "    [theme=dark] .colab-df-convert {\n",
       "      background-color: #3B4455;\n",
       "      fill: #D2E3FC;\n",
       "    }\n",
       "\n",
       "    [theme=dark] .colab-df-convert:hover {\n",
       "      background-color: #434B5C;\n",
       "      box-shadow: 0px 1px 3px 1px rgba(0, 0, 0, 0.15);\n",
       "      filter: drop-shadow(0px 1px 2px rgba(0, 0, 0, 0.3));\n",
       "      fill: #FFFFFF;\n",
       "    }\n",
       "  </style>\n",
       "\n",
       "      <script>\n",
       "        const buttonEl =\n",
       "          document.querySelector('#df-5bd60b19-a547-4ab0-9866-3911fd74a3be button.colab-df-convert');\n",
       "        buttonEl.style.display =\n",
       "          google.colab.kernel.accessAllowed ? 'block' : 'none';\n",
       "\n",
       "        async function convertToInteractive(key) {\n",
       "          const element = document.querySelector('#df-5bd60b19-a547-4ab0-9866-3911fd74a3be');\n",
       "          const dataTable =\n",
       "            await google.colab.kernel.invokeFunction('convertToInteractive',\n",
       "                                                     [key], {});\n",
       "          if (!dataTable) return;\n",
       "\n",
       "          const docLinkHtml = 'Like what you see? Visit the ' +\n",
       "            '<a target=\"_blank\" href=https://colab.research.google.com/notebooks/data_table.ipynb>data table notebook</a>'\n",
       "            + ' to learn more about interactive tables.';\n",
       "          element.innerHTML = '';\n",
       "          dataTable['output_type'] = 'display_data';\n",
       "          await google.colab.output.renderOutput(dataTable, element);\n",
       "          const docLink = document.createElement('div');\n",
       "          docLink.innerHTML = docLinkHtml;\n",
       "          element.appendChild(docLink);\n",
       "        }\n",
       "      </script>\n",
       "    </div>\n",
       "  </div>\n",
       "  "
      ],
      "text/plain": [
       "                                                text  \\\n",
       "0  Blogs Foto Video Leserartikel Print-Archiv Sch...   \n",
       "1                                       Braunschweig   \n",
       "2  Kenntnisse im Bereich Enterprise Architecture ...   \n",
       "\n",
       "                                              tokens  \\\n",
       "0  [Blogs, Foto, Video, Leserartikel, Print-Archi...   \n",
       "1                                     [Braunschweig]   \n",
       "2  [Kenntnisse, im, Bereich, Enterprise, Architec...   \n",
       "\n",
       "                                         tokens_norm  \\\n",
       "0  ['blog', 'foto', 'video', 'leserartikel', 'pri...   \n",
       "1                                   ['braunschweig']   \n",
       "2  ['kenntnis', 'bereich', 'enterprise', 'archite...   \n",
       "\n",
       "                                           text_proc  \\\n",
       "0  blog foto video leserartikel print-archiv schl...   \n",
       "1                                       braunschweig   \n",
       "2  kenntnis bereich enterprise architecture manag...   \n",
       "\n",
       "                                           cats label  \n",
       "0  {'tech': False, 'soft': False, 'none': True}  none  \n",
       "1  {'tech': False, 'soft': False, 'none': True}  none  \n",
       "2  {'tech': True, 'soft': False, 'none': False}  tech  "
      ]
     },
     "execution_count": 9,
     "metadata": {},
     "output_type": "execute_result"
    }
   ],
   "source": [
    "train_df = get_split(split=\"training\")\n",
    "train_df.head(3)"
   ]
  },
  {
   "cell_type": "code",
   "execution_count": null,
   "id": "65849c18",
   "metadata": {
    "colab": {
     "base_uri": "https://localhost:8080/",
     "height": 237
    },
    "id": "65849c18",
    "outputId": "4e3749bc-6b78-4e62-d90e-73366f43e951"
   },
   "outputs": [
    {
     "data": {
      "text/html": [
       "\n",
       "  <div id=\"df-d96a2687-4387-4373-9f89-aa9ed1cab746\">\n",
       "    <div class=\"colab-df-container\">\n",
       "      <div>\n",
       "<style scoped>\n",
       "    .dataframe tbody tr th:only-of-type {\n",
       "        vertical-align: middle;\n",
       "    }\n",
       "\n",
       "    .dataframe tbody tr th {\n",
       "        vertical-align: top;\n",
       "    }\n",
       "\n",
       "    .dataframe thead th {\n",
       "        text-align: right;\n",
       "    }\n",
       "</style>\n",
       "<table border=\"1\" class=\"dataframe\">\n",
       "  <thead>\n",
       "    <tr style=\"text-align: right;\">\n",
       "      <th></th>\n",
       "      <th>text</th>\n",
       "      <th>tokens</th>\n",
       "      <th>tokens_norm</th>\n",
       "      <th>text_proc</th>\n",
       "      <th>cats</th>\n",
       "      <th>label</th>\n",
       "    </tr>\n",
       "  </thead>\n",
       "  <tbody>\n",
       "    <tr>\n",
       "      <th>0</th>\n",
       "      <td>Kenntnisse in den Bereichen Gefahrgut, Ausfuhr...</td>\n",
       "      <td>[Kenntnisse, in, den, Bereichen, Gefahrgut, ,,...</td>\n",
       "      <td>['kenntnis', 'bereich', 'gefahrgut', 'ausfuhr'...</td>\n",
       "      <td>kenntnis bereich gefahrgut ausfuhr luftfracht ...</td>\n",
       "      <td>{'tech': True, 'soft': False, 'none': False}</td>\n",
       "      <td>tech</td>\n",
       "    </tr>\n",
       "    <tr>\n",
       "      <th>1</th>\n",
       "      <td>Flexibler Umgang mit wechselnden Situationen s...</td>\n",
       "      <td>[Flexibler, Umgang, mit, wechselnden, Situatio...</td>\n",
       "      <td>['flexibler', 'umgang', 'wechselnd', 'situatio...</td>\n",
       "      <td>flexibler umgang wechselnd situation hoch eins...</td>\n",
       "      <td>{'tech': False, 'soft': True, 'none': False}</td>\n",
       "      <td>soft</td>\n",
       "    </tr>\n",
       "    <tr>\n",
       "      <th>2</th>\n",
       "      <td>Leipzig</td>\n",
       "      <td>[Leipzig]</td>\n",
       "      <td>['leipzig']</td>\n",
       "      <td>leipzig</td>\n",
       "      <td>{'tech': False, 'soft': False, 'none': True}</td>\n",
       "      <td>none</td>\n",
       "    </tr>\n",
       "  </tbody>\n",
       "</table>\n",
       "</div>\n",
       "      <button class=\"colab-df-convert\" onclick=\"convertToInteractive('df-d96a2687-4387-4373-9f89-aa9ed1cab746')\"\n",
       "              title=\"Convert this dataframe to an interactive table.\"\n",
       "              style=\"display:none;\">\n",
       "        \n",
       "  <svg xmlns=\"http://www.w3.org/2000/svg\" height=\"24px\"viewBox=\"0 0 24 24\"\n",
       "       width=\"24px\">\n",
       "    <path d=\"M0 0h24v24H0V0z\" fill=\"none\"/>\n",
       "    <path d=\"M18.56 5.44l.94 2.06.94-2.06 2.06-.94-2.06-.94-.94-2.06-.94 2.06-2.06.94zm-11 1L8.5 8.5l.94-2.06 2.06-.94-2.06-.94L8.5 2.5l-.94 2.06-2.06.94zm10 10l.94 2.06.94-2.06 2.06-.94-2.06-.94-.94-2.06-.94 2.06-2.06.94z\"/><path d=\"M17.41 7.96l-1.37-1.37c-.4-.4-.92-.59-1.43-.59-.52 0-1.04.2-1.43.59L10.3 9.45l-7.72 7.72c-.78.78-.78 2.05 0 2.83L4 21.41c.39.39.9.59 1.41.59.51 0 1.02-.2 1.41-.59l7.78-7.78 2.81-2.81c.8-.78.8-2.07 0-2.86zM5.41 20L4 18.59l7.72-7.72 1.47 1.35L5.41 20z\"/>\n",
       "  </svg>\n",
       "      </button>\n",
       "      \n",
       "  <style>\n",
       "    .colab-df-container {\n",
       "      display:flex;\n",
       "      flex-wrap:wrap;\n",
       "      gap: 12px;\n",
       "    }\n",
       "\n",
       "    .colab-df-convert {\n",
       "      background-color: #E8F0FE;\n",
       "      border: none;\n",
       "      border-radius: 50%;\n",
       "      cursor: pointer;\n",
       "      display: none;\n",
       "      fill: #1967D2;\n",
       "      height: 32px;\n",
       "      padding: 0 0 0 0;\n",
       "      width: 32px;\n",
       "    }\n",
       "\n",
       "    .colab-df-convert:hover {\n",
       "      background-color: #E2EBFA;\n",
       "      box-shadow: 0px 1px 2px rgba(60, 64, 67, 0.3), 0px 1px 3px 1px rgba(60, 64, 67, 0.15);\n",
       "      fill: #174EA6;\n",
       "    }\n",
       "\n",
       "    [theme=dark] .colab-df-convert {\n",
       "      background-color: #3B4455;\n",
       "      fill: #D2E3FC;\n",
       "    }\n",
       "\n",
       "    [theme=dark] .colab-df-convert:hover {\n",
       "      background-color: #434B5C;\n",
       "      box-shadow: 0px 1px 3px 1px rgba(0, 0, 0, 0.15);\n",
       "      filter: drop-shadow(0px 1px 2px rgba(0, 0, 0, 0.3));\n",
       "      fill: #FFFFFF;\n",
       "    }\n",
       "  </style>\n",
       "\n",
       "      <script>\n",
       "        const buttonEl =\n",
       "          document.querySelector('#df-d96a2687-4387-4373-9f89-aa9ed1cab746 button.colab-df-convert');\n",
       "        buttonEl.style.display =\n",
       "          google.colab.kernel.accessAllowed ? 'block' : 'none';\n",
       "\n",
       "        async function convertToInteractive(key) {\n",
       "          const element = document.querySelector('#df-d96a2687-4387-4373-9f89-aa9ed1cab746');\n",
       "          const dataTable =\n",
       "            await google.colab.kernel.invokeFunction('convertToInteractive',\n",
       "                                                     [key], {});\n",
       "          if (!dataTable) return;\n",
       "\n",
       "          const docLinkHtml = 'Like what you see? Visit the ' +\n",
       "            '<a target=\"_blank\" href=https://colab.research.google.com/notebooks/data_table.ipynb>data table notebook</a>'\n",
       "            + ' to learn more about interactive tables.';\n",
       "          element.innerHTML = '';\n",
       "          dataTable['output_type'] = 'display_data';\n",
       "          await google.colab.output.renderOutput(dataTable, element);\n",
       "          const docLink = document.createElement('div');\n",
       "          docLink.innerHTML = docLinkHtml;\n",
       "          element.appendChild(docLink);\n",
       "        }\n",
       "      </script>\n",
       "    </div>\n",
       "  </div>\n",
       "  "
      ],
      "text/plain": [
       "                                                text  \\\n",
       "0  Kenntnisse in den Bereichen Gefahrgut, Ausfuhr...   \n",
       "1  Flexibler Umgang mit wechselnden Situationen s...   \n",
       "2                                            Leipzig   \n",
       "\n",
       "                                              tokens  \\\n",
       "0  [Kenntnisse, in, den, Bereichen, Gefahrgut, ,,...   \n",
       "1  [Flexibler, Umgang, mit, wechselnden, Situatio...   \n",
       "2                                          [Leipzig]   \n",
       "\n",
       "                                         tokens_norm  \\\n",
       "0  ['kenntnis', 'bereich', 'gefahrgut', 'ausfuhr'...   \n",
       "1  ['flexibler', 'umgang', 'wechselnd', 'situatio...   \n",
       "2                                        ['leipzig']   \n",
       "\n",
       "                                           text_proc  \\\n",
       "0  kenntnis bereich gefahrgut ausfuhr luftfracht ...   \n",
       "1  flexibler umgang wechselnd situation hoch eins...   \n",
       "2                                            leipzig   \n",
       "\n",
       "                                           cats label  \n",
       "0  {'tech': True, 'soft': False, 'none': False}  tech  \n",
       "1  {'tech': False, 'soft': True, 'none': False}  soft  \n",
       "2  {'tech': False, 'soft': False, 'none': True}  none  "
      ]
     },
     "execution_count": 10,
     "metadata": {},
     "output_type": "execute_result"
    }
   ],
   "source": [
    "dev_df = get_split(split=\"dev\")\n",
    "dev_df.head(3)"
   ]
  },
  {
   "cell_type": "code",
   "execution_count": null,
   "id": "vmLusGS-6_EM",
   "metadata": {
    "colab": {
     "base_uri": "https://localhost:8080/",
     "height": 254
    },
    "id": "vmLusGS-6_EM",
    "outputId": "32bc5dae-1aab-477c-e5bc-4fb1974f5d98"
   },
   "outputs": [
    {
     "data": {
      "text/html": [
       "\n",
       "  <div id=\"df-b8a8f644-da43-4524-a796-fb134f6733d8\">\n",
       "    <div class=\"colab-df-container\">\n",
       "      <div>\n",
       "<style scoped>\n",
       "    .dataframe tbody tr th:only-of-type {\n",
       "        vertical-align: middle;\n",
       "    }\n",
       "\n",
       "    .dataframe tbody tr th {\n",
       "        vertical-align: top;\n",
       "    }\n",
       "\n",
       "    .dataframe thead th {\n",
       "        text-align: right;\n",
       "    }\n",
       "</style>\n",
       "<table border=\"1\" class=\"dataframe\">\n",
       "  <thead>\n",
       "    <tr style=\"text-align: right;\">\n",
       "      <th></th>\n",
       "      <th>text</th>\n",
       "      <th>tokens</th>\n",
       "      <th>tokens_norm</th>\n",
       "      <th>text_proc</th>\n",
       "      <th>cats</th>\n",
       "      <th>label</th>\n",
       "    </tr>\n",
       "  </thead>\n",
       "  <tbody>\n",
       "    <tr>\n",
       "      <th>0</th>\n",
       "      <td>Sie beherrschen Englisch in Wort und Schrift.</td>\n",
       "      <td>[Sie, beherrschen, Englisch, in, Wort, und, Sc...</td>\n",
       "      <td>['beherrschen', 'englisch', 'wort', 'schrift']</td>\n",
       "      <td>beherrschen englisch wort schrift</td>\n",
       "      <td>{'tech': False, 'soft': True, 'none': False}</td>\n",
       "      <td>soft</td>\n",
       "    </tr>\n",
       "    <tr>\n",
       "      <th>1</th>\n",
       "      <td>Zeig 12 mehr mitarbeitervorteile</td>\n",
       "      <td>[Zeig, 12, mehr, mitarbeitervorteile]</td>\n",
       "      <td>['zeig', '12', 'mitarbeitervorteil']</td>\n",
       "      <td>zeig 12 mitarbeitervorteil</td>\n",
       "      <td>{'tech': False, 'soft': False, 'none': True}</td>\n",
       "      <td>none</td>\n",
       "    </tr>\n",
       "    <tr>\n",
       "      <th>2</th>\n",
       "      <td>Organisations- und Verhandlungsgeschick sowie ...</td>\n",
       "      <td>[Organisations-, und, Verhandlungsgeschick, so...</td>\n",
       "      <td>['organisation', 'verhandlungsgeschick', 'fund...</td>\n",
       "      <td>organisation verhandlungsgeschick fundiert fac...</td>\n",
       "      <td>{'tech': False, 'soft': True, 'none': False}</td>\n",
       "      <td>soft</td>\n",
       "    </tr>\n",
       "  </tbody>\n",
       "</table>\n",
       "</div>\n",
       "      <button class=\"colab-df-convert\" onclick=\"convertToInteractive('df-b8a8f644-da43-4524-a796-fb134f6733d8')\"\n",
       "              title=\"Convert this dataframe to an interactive table.\"\n",
       "              style=\"display:none;\">\n",
       "        \n",
       "  <svg xmlns=\"http://www.w3.org/2000/svg\" height=\"24px\"viewBox=\"0 0 24 24\"\n",
       "       width=\"24px\">\n",
       "    <path d=\"M0 0h24v24H0V0z\" fill=\"none\"/>\n",
       "    <path d=\"M18.56 5.44l.94 2.06.94-2.06 2.06-.94-2.06-.94-.94-2.06-.94 2.06-2.06.94zm-11 1L8.5 8.5l.94-2.06 2.06-.94-2.06-.94L8.5 2.5l-.94 2.06-2.06.94zm10 10l.94 2.06.94-2.06 2.06-.94-2.06-.94-.94-2.06-.94 2.06-2.06.94z\"/><path d=\"M17.41 7.96l-1.37-1.37c-.4-.4-.92-.59-1.43-.59-.52 0-1.04.2-1.43.59L10.3 9.45l-7.72 7.72c-.78.78-.78 2.05 0 2.83L4 21.41c.39.39.9.59 1.41.59.51 0 1.02-.2 1.41-.59l7.78-7.78 2.81-2.81c.8-.78.8-2.07 0-2.86zM5.41 20L4 18.59l7.72-7.72 1.47 1.35L5.41 20z\"/>\n",
       "  </svg>\n",
       "      </button>\n",
       "      \n",
       "  <style>\n",
       "    .colab-df-container {\n",
       "      display:flex;\n",
       "      flex-wrap:wrap;\n",
       "      gap: 12px;\n",
       "    }\n",
       "\n",
       "    .colab-df-convert {\n",
       "      background-color: #E8F0FE;\n",
       "      border: none;\n",
       "      border-radius: 50%;\n",
       "      cursor: pointer;\n",
       "      display: none;\n",
       "      fill: #1967D2;\n",
       "      height: 32px;\n",
       "      padding: 0 0 0 0;\n",
       "      width: 32px;\n",
       "    }\n",
       "\n",
       "    .colab-df-convert:hover {\n",
       "      background-color: #E2EBFA;\n",
       "      box-shadow: 0px 1px 2px rgba(60, 64, 67, 0.3), 0px 1px 3px 1px rgba(60, 64, 67, 0.15);\n",
       "      fill: #174EA6;\n",
       "    }\n",
       "\n",
       "    [theme=dark] .colab-df-convert {\n",
       "      background-color: #3B4455;\n",
       "      fill: #D2E3FC;\n",
       "    }\n",
       "\n",
       "    [theme=dark] .colab-df-convert:hover {\n",
       "      background-color: #434B5C;\n",
       "      box-shadow: 0px 1px 3px 1px rgba(0, 0, 0, 0.15);\n",
       "      filter: drop-shadow(0px 1px 2px rgba(0, 0, 0, 0.3));\n",
       "      fill: #FFFFFF;\n",
       "    }\n",
       "  </style>\n",
       "\n",
       "      <script>\n",
       "        const buttonEl =\n",
       "          document.querySelector('#df-b8a8f644-da43-4524-a796-fb134f6733d8 button.colab-df-convert');\n",
       "        buttonEl.style.display =\n",
       "          google.colab.kernel.accessAllowed ? 'block' : 'none';\n",
       "\n",
       "        async function convertToInteractive(key) {\n",
       "          const element = document.querySelector('#df-b8a8f644-da43-4524-a796-fb134f6733d8');\n",
       "          const dataTable =\n",
       "            await google.colab.kernel.invokeFunction('convertToInteractive',\n",
       "                                                     [key], {});\n",
       "          if (!dataTable) return;\n",
       "\n",
       "          const docLinkHtml = 'Like what you see? Visit the ' +\n",
       "            '<a target=\"_blank\" href=https://colab.research.google.com/notebooks/data_table.ipynb>data table notebook</a>'\n",
       "            + ' to learn more about interactive tables.';\n",
       "          element.innerHTML = '';\n",
       "          dataTable['output_type'] = 'display_data';\n",
       "          await google.colab.output.renderOutput(dataTable, element);\n",
       "          const docLink = document.createElement('div');\n",
       "          docLink.innerHTML = docLinkHtml;\n",
       "          element.appendChild(docLink);\n",
       "        }\n",
       "      </script>\n",
       "    </div>\n",
       "  </div>\n",
       "  "
      ],
      "text/plain": [
       "                                                text  \\\n",
       "0      Sie beherrschen Englisch in Wort und Schrift.   \n",
       "1                   Zeig 12 mehr mitarbeitervorteile   \n",
       "2  Organisations- und Verhandlungsgeschick sowie ...   \n",
       "\n",
       "                                              tokens  \\\n",
       "0  [Sie, beherrschen, Englisch, in, Wort, und, Sc...   \n",
       "1              [Zeig, 12, mehr, mitarbeitervorteile]   \n",
       "2  [Organisations-, und, Verhandlungsgeschick, so...   \n",
       "\n",
       "                                         tokens_norm  \\\n",
       "0     ['beherrschen', 'englisch', 'wort', 'schrift']   \n",
       "1               ['zeig', '12', 'mitarbeitervorteil']   \n",
       "2  ['organisation', 'verhandlungsgeschick', 'fund...   \n",
       "\n",
       "                                           text_proc  \\\n",
       "0                  beherrschen englisch wort schrift   \n",
       "1                         zeig 12 mitarbeitervorteil   \n",
       "2  organisation verhandlungsgeschick fundiert fac...   \n",
       "\n",
       "                                           cats label  \n",
       "0  {'tech': False, 'soft': True, 'none': False}  soft  \n",
       "1  {'tech': False, 'soft': False, 'none': True}  none  \n",
       "2  {'tech': False, 'soft': True, 'none': False}  soft  "
      ]
     },
     "execution_count": 11,
     "metadata": {},
     "output_type": "execute_result"
    }
   ],
   "source": [
    "test_df = get_split(split=\"test\")\n",
    "test_df.head(3)"
   ]
  },
  {
   "cell_type": "markdown",
   "id": "a33feb0b",
   "metadata": {
    "id": "a33feb0b"
   },
   "source": [
    "## Build the Binary Docs for Training"
   ]
  },
  {
   "cell_type": "code",
   "execution_count": null,
   "id": "be77f248",
   "metadata": {
    "id": "be77f248"
   },
   "outputs": [],
   "source": [
    "# Let's process training data\n",
    "\n",
    "def data_to_bindoc(df, split):\n",
    "    docs = []\n",
    "    for idx, doc in enumerate(nlp.pipe(df['text_proc'], batch_size=100)):\n",
    "        doc.cats = eval(df.iloc[idx].cats)\n",
    "        docs.append(doc)\n",
    "            \n",
    "    doc_bin = DocBin(docs=docs)\n",
    "    data_path = f\"./data/{split}_clean.spacy\"\n",
    "    doc_bin.to_disk(data_path)\n",
    "    print(f\"Proccesed and saved BinDoc for split:{split} to:{data_path}\")"
   ]
  },
  {
   "cell_type": "code",
   "execution_count": null,
   "id": "968f97ca",
   "metadata": {
    "colab": {
     "base_uri": "https://localhost:8080/"
    },
    "id": "968f97ca",
    "outputId": "45061a0d-826e-4df0-b23e-077954166381"
   },
   "outputs": [
    {
     "name": "stdout",
     "output_type": "stream",
     "text": [
      "Proccesed and saved BinDoc for split:train to:./data/train_clean.spacy\n",
      "CPU times: user 8.65 s, sys: 92.9 ms, total: 8.74 s\n",
      "Wall time: 8.66 s\n"
     ]
    }
   ],
   "source": [
    "%%time\n",
    "data_to_bindoc(train_df, \"train\")"
   ]
  },
  {
   "cell_type": "code",
   "execution_count": null,
   "id": "1058ac39",
   "metadata": {
    "colab": {
     "base_uri": "https://localhost:8080/"
    },
    "id": "1058ac39",
    "outputId": "4f40541e-6174-420e-be8e-879e0c3ae08a"
   },
   "outputs": [
    {
     "name": "stdout",
     "output_type": "stream",
     "text": [
      "Proccesed and saved BinDoc for split:dev to:./data/dev_clean.spacy\n",
      "CPU times: user 1.81 s, sys: 994 µs, total: 1.81 s\n",
      "Wall time: 1.8 s\n"
     ]
    }
   ],
   "source": [
    "%%time\n",
    "data_to_bindoc(dev_df, \"dev\")"
   ]
  },
  {
   "cell_type": "code",
   "execution_count": null,
   "id": "8rrviW6z7boP",
   "metadata": {
    "colab": {
     "base_uri": "https://localhost:8080/"
    },
    "id": "8rrviW6z7boP",
    "outputId": "a1e6c8b4-5ff7-4753-f546-810a39c2764a"
   },
   "outputs": [
    {
     "name": "stdout",
     "output_type": "stream",
     "text": [
      "Proccesed and saved BinDoc for split:test to:./data/test_clean.spacy\n"
     ]
    }
   ],
   "source": [
    "data_to_bindoc(test_df, \"test\")"
   ]
  },
  {
   "cell_type": "markdown",
   "id": "bf2394cd",
   "metadata": {
    "id": "bf2394cd"
   },
   "source": [
    "## Process the config"
   ]
  },
  {
   "cell_type": "code",
   "execution_count": null,
   "id": "da5237e9",
   "metadata": {
    "colab": {
     "base_uri": "https://localhost:8080/"
    },
    "id": "da5237e9",
    "outputId": "2b1ca0aa-8ae6-4c15-e71e-ad5ad5b9ced4"
   },
   "outputs": [
    {
     "name": "stdout",
     "output_type": "stream",
     "text": [
      "\u001b[38;5;2m✔ Auto-filled config with all values\u001b[0m\n",
      "\u001b[38;5;2m✔ Saved config\u001b[0m\n",
      "config/config_sw.cfg\n",
      "You can now add your data and train your pipeline:\n",
      "python -m spacy train config_sw.cfg --paths.train ./train.spacy --paths.dev ./dev.spacy\n"
     ]
    }
   ],
   "source": [
    "!python -m spacy init fill-config ./config/base_config_sw.cfg ./config/config_sw.cfg"
   ]
  },
  {
   "cell_type": "code",
   "execution_count": null,
   "id": "GS0gGmIa7yO7",
   "metadata": {
    "colab": {
     "base_uri": "https://localhost:8080/"
    },
    "id": "GS0gGmIa7yO7",
    "outputId": "28fe6326-fffe-4baa-d862-080551764dac"
   },
   "outputs": [
    {
     "name": "stdout",
     "output_type": "stream",
     "text": [
      "\u001b[1m\n",
      "============================ Data file validation ============================\u001b[0m\n",
      "tcmalloc: large alloc 1200005120 bytes == 0x60984000 @  0x7f26835762a4 0x7f266269ee09 0x7f266269dcdf 0x7f266269a675 0x7f266269ae2e 0x4f750a 0x4997a2 0x55cd91 0x5d8941 0x49abe4 0x7f25105e1d78 0x7f25105e470e 0x7f25105ec5a7 0x7f25105efe85 0x5d8d8c 0x55dc1e 0x5d8868 0x4990ca 0x7f25105e1d78 0x7f25105e470e 0x7f25105ebe4b 0x5d80be 0x5d8d8c 0x55ea20 0x55d078 0x5d8941 0x49abe4 0x55d078 0x5d8941 0x4997a2 0x55d078\n",
      "tcmalloc: large alloc 1213743104 bytes == 0xcbe24000 @  0x7f26835762a4 0x7f266269c3a2 0x7f266269dcdf 0x7f266269a675 0x7f266269ae2e 0x4f750a 0x4997a2 0x55cd91 0x5d8941 0x49abe4 0x5d8868 0x4997c7 0x7f25105e1d78 0x7f25105e470e 0x7f25105ebe4b 0x5d80be 0x5d8d8c 0x55ea20 0x55d078 0x5d8941 0x49abe4 0x55d078 0x5d8941 0x4997a2 0x55d078 0x5d8941 0x49abe4 0x55cd91 0x5d8941 0x5d8416 0x55f797\n",
      "\u001b[38;5;2m✔ Pipeline can be initialized with data\u001b[0m\n",
      "\u001b[38;5;2m✔ Corpus is loadable\u001b[0m\n",
      "\u001b[1m\n",
      "=============================== Training stats ===============================\u001b[0m\n",
      "Language: de\n",
      "Training pipeline: tok2vec, textcat\n",
      "6508 training docs\n",
      "1429 evaluation docs\n",
      "\u001b[38;5;2m✔ No overlap between training and evaluation data\u001b[0m\n",
      "\u001b[1m\n",
      "============================== Vocab & Vectors ==============================\u001b[0m\n",
      "\u001b[38;5;4mℹ 44976 total word(s) in the data (12248 unique)\u001b[0m\n",
      "\u001b[38;5;4mℹ 500000 vectors (500000 unique keys, 300 dimensions)\u001b[0m\n",
      "\u001b[38;5;3m⚠ 10937 words in training data without vectors (24%)\u001b[0m\n",
      "\u001b[1m\n",
      "================== Text Classification (Exclusive Classes) ==================\u001b[0m\n",
      "\u001b[38;5;4mℹ Text Classification: 3 label(s)\u001b[0m\n",
      "\u001b[1m\n",
      "================================== Summary ==================================\u001b[0m\n",
      "\u001b[38;5;2m✔ 3 checks passed\u001b[0m\n",
      "\u001b[38;5;3m⚠ 1 warning\u001b[0m\n"
     ]
    }
   ],
   "source": [
    "! python -m spacy debug data ./config/config_sw.cfg"
   ]
  },
  {
   "cell_type": "markdown",
   "id": "c1fc06b9",
   "metadata": {
    "id": "c1fc06b9"
   },
   "source": [
    "## Perform Training"
   ]
  },
  {
   "cell_type": "code",
   "execution_count": null,
   "id": "e15386d2",
   "metadata": {
    "colab": {
     "base_uri": "https://localhost:8080/"
    },
    "id": "e15386d2",
    "outputId": "97640ccd-061d-4865-8755-6222c3e344f2",
    "scrolled": true
   },
   "outputs": [
    {
     "name": "stdout",
     "output_type": "stream",
     "text": [
      "\u001b[38;5;2m✔ Created output directory: textcat_clean\u001b[0m\n",
      "\u001b[38;5;4mℹ Saving to output directory: textcat_clean\u001b[0m\n",
      "\u001b[38;5;4mℹ Using GPU: 0\u001b[0m\n",
      "\u001b[1m\n",
      "=========================== Initializing pipeline ===========================\u001b[0m\n",
      "[2022-12-22 18:15:41,457] [INFO] Set up nlp object from config\n",
      "INFO:spacy:Set up nlp object from config\n",
      "[2022-12-22 18:15:41,469] [INFO] Pipeline: ['tok2vec', 'textcat']\n",
      "INFO:spacy:Pipeline: ['tok2vec', 'textcat']\n",
      "[2022-12-22 18:15:41,472] [INFO] Created vocabulary\n",
      "INFO:spacy:Created vocabulary\n",
      "[2022-12-22 18:15:44,292] [INFO] Added vectors: de_core_news_lg\n",
      "INFO:spacy:Added vectors: de_core_news_lg\n",
      "tcmalloc: large alloc 1200005120 bytes == 0xa34fa000 @  0x7f5e62c192a4 0x7f5e41d46e09 0x7f5e41d45cdf 0x7f5e41d42675 0x7f5e41d42e2e 0x4f750a 0x4997a2 0x55cd91 0x5d8941 0x49abe4 0x7f5cc5c79d78 0x7f5cc5c7c70e 0x7f5cc5c845a7 0x7f5cc5c87e85 0x5d8d8c 0x55dc1e 0x5d8868 0x4990ca 0x7f5cc5c79d78 0x7f5cc5c7c70e 0x7f5cc5c83e4b 0x5d80be 0x5d8d8c 0x55ea20 0x55d078 0x5d8941 0x49abe4 0x4fe253 0x49abe4 0x55d078 0x5d8941\n",
      "tcmalloc: large alloc 1213743104 bytes == 0x10e99a000 @  0x7f5e62c192a4 0x7f5e41d443a2 0x7f5e41d45cdf 0x7f5e41d42675 0x7f5e41d42e2e 0x4f750a 0x4997a2 0x55cd91 0x5d8941 0x49abe4 0x5d8868 0x4997c7 0x7f5cc5c79d78 0x7f5cc5c7c70e 0x7f5cc5c83e4b 0x5d80be 0x5d8d8c 0x55ea20 0x55d078 0x5d8941 0x49abe4 0x4fe253 0x49abe4 0x55d078 0x5d8941 0x49abe4 0x55d078 0x5d8941 0x49abe4 0x55cd91 0x5d8941\n",
      "[2022-12-22 18:15:46,187] [INFO] Finished initializing nlp object\n",
      "INFO:spacy:Finished initializing nlp object\n",
      "[2022-12-22 18:16:07,791] [INFO] Initialized pipeline components: ['tok2vec', 'textcat']\n",
      "INFO:spacy:Initialized pipeline components: ['tok2vec', 'textcat']\n",
      "\u001b[38;5;2m✔ Initialized pipeline\u001b[0m\n",
      "\u001b[1m\n",
      "============================= Training pipeline =============================\u001b[0m\n",
      "\u001b[38;5;4mℹ Pipeline: ['tok2vec', 'textcat']\u001b[0m\n",
      "\u001b[38;5;4mℹ Initial learn rate: 0.001\u001b[0m\n",
      "E    #       LOSS TOK2VEC  LOSS TEXTCAT  CATS_SCORE  SCORE \n",
      "---  ------  ------------  ------------  ----------  ------\n",
      "  0       0          0.00          0.22        0.00    0.00\n",
      "  0     200         76.76         22.60       86.19    0.86\n",
      "  1     400        162.26         12.71       85.20    0.85\n",
      "  1     600        283.11          9.36       88.51    0.89\n",
      "  2     800       1409.39          7.86       89.56    0.90\n",
      "  3    1000       2004.15          6.12       91.13    0.91\n",
      "  4    1200       2911.92          4.86       88.37    0.88\n",
      "  6    1400       7642.71          4.41       89.48    0.89\n",
      "  8    1600       9621.51          3.55       90.10    0.90\n",
      " 10    1800      13881.91          2.62       90.65    0.91\n",
      " 13    2000      22439.22          2.26       90.99    0.91\n",
      " 17    2200      25848.31          1.90       90.92    0.91\n",
      " 21    2400      51062.42          1.51       89.95    0.90\n",
      " 25    2600      63510.65          1.14       91.03    0.91\n",
      "\u001b[38;5;2m✔ Saved pipeline to output directory\u001b[0m\n",
      "textcat_clean/model-last\n"
     ]
    }
   ],
   "source": [
    "!python -m spacy train ./config/config_sw.cfg --gpu-id 0 --output textcat_clean"
   ]
  },
  {
   "cell_type": "markdown",
   "id": "ff15e511",
   "metadata": {
    "id": "ff15e511"
   },
   "source": [
    "## Evaluate\n",
    "\n",
    "\n",
    "Let's load the best model and try to evaluate on a single example"
   ]
  },
  {
   "cell_type": "code",
   "execution_count": null,
   "id": "66a96593",
   "metadata": {
    "colab": {
     "base_uri": "https://localhost:8080/"
    },
    "id": "66a96593",
    "outputId": "2e0fd499-bf5a-4b15-ddcb-836c7e8bb487"
   },
   "outputs": [
    {
     "data": {
      "text/plain": [
       "{'tech': 0.9884323477745056,\n",
       " 'soft': 0.004672237206250429,\n",
       " 'none': 0.0068954057060182095}"
      ]
     },
     "execution_count": 20,
     "metadata": {},
     "output_type": "execute_result"
    }
   ],
   "source": [
    "nlp = spacy.load(\"textcat_clean/model-best\")\n",
    "\n",
    "doc = nlp(\"Kenntnisse im Bereich Online-Dienste von Vorteil\")\n",
    "doc.cats"
   ]
  },
  {
   "cell_type": "markdown",
   "id": "jrKqmu8UISVD",
   "metadata": {
    "id": "jrKqmu8UISVD"
   },
   "source": [
    "### Evaluate using spacy evaluate"
   ]
  },
  {
   "cell_type": "code",
   "execution_count": null,
   "id": "_-u-_UBzIUVL",
   "metadata": {
    "colab": {
     "base_uri": "https://localhost:8080/"
    },
    "id": "_-u-_UBzIUVL",
    "outputId": "28696d01-197e-45c0-a874-feb5255b1fe4"
   },
   "outputs": [
    {
     "name": "stdout",
     "output_type": "stream",
     "text": [
      "\u001b[38;5;4mℹ Using CPU\u001b[0m\n",
      "\u001b[38;5;4mℹ To switch to GPU 0, use the option: --gpu-id 0\u001b[0m\n",
      "\u001b[1m\n",
      "================================== Results ==================================\u001b[0m\n",
      "\n",
      "TOK                 100.00\n",
      "TEXTCAT (macro F)   89.29 \n",
      "SPEED               2236  \n",
      "\n",
      "\u001b[1m\n",
      "=========================== Textcat F (per label) ===========================\u001b[0m\n",
      "\n",
      "           P       R       F\n",
      "tech   86.01   86.27   86.14\n",
      "soft   91.84   86.54   89.11\n",
      "none   92.79   92.47   92.63\n",
      "\n",
      "\u001b[1m\n",
      "======================== Textcat ROC AUC (per label) ========================\u001b[0m\n",
      "\n",
      "       ROC AUC\n",
      "tech      0.97\n",
      "soft      0.97\n",
      "none      0.98\n",
      "\n",
      "\u001b[38;5;2m✔ Saved results to textcat_clean/evaluate.json\u001b[0m\n"
     ]
    }
   ],
   "source": [
    "!python -m spacy evaluate textcat_clean/model-best/ ./data/test_clean.spacy --output textcat_clean/evaluate.json"
   ]
  },
  {
   "cell_type": "code",
   "execution_count": null,
   "id": "w5PNLaebKivv",
   "metadata": {
    "colab": {
     "base_uri": "https://localhost:8080/"
    },
    "id": "w5PNLaebKivv",
    "outputId": "6ad675df-45e8-4386-aefd-f54019bcb6c8"
   },
   "outputs": [
    {
     "name": "stdout",
     "output_type": "stream",
     "text": [
      "textcat_clean/model-best/config.cfg\n",
      "textcat_clean/model-best/meta.json\n",
      "textcat_clean/model-best/textcat/\n",
      "textcat_clean/model-best/textcat/cfg\n",
      "textcat_clean/model-best/textcat/model\n",
      "textcat_clean/model-best/tok2vec/\n",
      "textcat_clean/model-best/tok2vec/cfg\n",
      "textcat_clean/model-best/tok2vec/model\n",
      "textcat_clean/model-best/tokenizer\n",
      "textcat_clean/model-best/vocab/\n",
      "textcat_clean/model-best/vocab/key2row\n",
      "textcat_clean/model-best/vocab/strings.json\n",
      "textcat_clean/model-best/vocab/lookups.bin\n",
      "textcat_clean/model-best/vocab/vectors\n",
      "textcat_clean/model-best/vocab/vectors.cfg\n",
      "textcat_clean/evaluate.json\n"
     ]
    }
   ],
   "source": [
    "# Save best model\n",
    "!tar -czvf best_model_clean.tar.gz textcat_clean/model-best/* textcat_clean/evaluate.json"
   ]
  },
  {
   "cell_type": "code",
   "execution_count": null,
   "id": "xmzqzaluDR3f",
   "metadata": {
    "colab": {
     "base_uri": "https://localhost:8080/"
    },
    "id": "xmzqzaluDR3f",
    "outputId": "e71f0ee9-e988-4a9f-bf44-95a94e42995c"
   },
   "outputs": [
    {
     "name": "stdout",
     "output_type": "stream",
     "text": [
      "Mounted at /content/drive\n"
     ]
    }
   ],
   "source": [
    "from google.colab import drive\n",
    "drive.mount('/content/drive',force_remount=True)"
   ]
  },
  {
   "cell_type": "code",
   "execution_count": null,
   "id": "yhrd4NtuDSoc",
   "metadata": {
    "id": "yhrd4NtuDSoc"
   },
   "outputs": [],
   "source": [
    "save_to = \"/content/drive/MyDrive/tb_challenge/\"\n",
    "!cp best_model_clean.tar.gz $save_to"
   ]
  },
  {
   "cell_type": "code",
   "execution_count": null,
   "id": "PVHb6wQgARvL",
   "metadata": {
    "id": "PVHb6wQgARvL"
   },
   "outputs": [],
   "source": []
  },
  {
   "cell_type": "code",
   "execution_count": null,
   "id": "y3tLhMzfAQ3y",
   "metadata": {
    "id": "y3tLhMzfAQ3y"
   },
   "outputs": [],
   "source": []
  },
  {
   "cell_type": "markdown",
   "id": "OtDJj0mEDc46",
   "metadata": {
    "id": "OtDJj0mEDc46"
   },
   "source": [
    "## Obtain Predictions from Text Data"
   ]
  },
  {
   "cell_type": "code",
   "execution_count": null,
   "id": "8s8uICmHDcCK",
   "metadata": {
    "id": "8s8uICmHDcCK"
   },
   "outputs": [],
   "source": [
    "best_model = \"./textcat_clean/model-best/\"\n",
    "test_data = \"./data/test_clean.spacy\""
   ]
  },
  {
   "cell_type": "code",
   "execution_count": null,
   "id": "uMUN9M64Ev77",
   "metadata": {
    "id": "uMUN9M64Ev77"
   },
   "outputs": [],
   "source": [
    "nlp = spacy.load(best_model)\n",
    "docs = DocBin().from_disk(test_data)"
   ]
  },
  {
   "cell_type": "code",
   "execution_count": null,
   "id": "vzN_yJ6IFOkV",
   "metadata": {
    "id": "vzN_yJ6IFOkV"
   },
   "outputs": [],
   "source": [
    "def get_key(d, value):\n",
    "  return next((k for k, v in d.items() if v == value), None) "
   ]
  },
  {
   "cell_type": "code",
   "execution_count": null,
   "id": "EBp169KTKs7H",
   "metadata": {
    "id": "EBp169KTKs7H"
   },
   "outputs": [],
   "source": [
    "idx_to_label = {0: \"tech\", 1: \"soft\", 2: \"none\"}\n",
    "label_to_idx = {\"tech\": 0, \"soft\": 1, \"none\": 2}"
   ]
  },
  {
   "cell_type": "code",
   "execution_count": null,
   "id": "9fnMByGIDtMn",
   "metadata": {
    "id": "9fnMByGIDtMn"
   },
   "outputs": [],
   "source": [
    "def get_preds_and_gold(nlp, docs):\n",
    "  \"\"\"\n",
    "  Created this function to be able to create the confusion matrix\n",
    "  \"\"\"\n",
    "  preds, gold = [], []\n",
    "  for doc in docs.get_docs(nlp.vocab):\n",
    "    true_label = get_key(doc.cats, True)\n",
    "    doc = nlp(doc.text )\n",
    "    pred_label = max(doc.cats, key=doc.cats.get)\n",
    "    preds.append(label_to_idx[pred_label])\n",
    "    gold.append(label_to_idx[true_label])\n",
    "  return preds, gold "
   ]
  },
  {
   "cell_type": "code",
   "execution_count": null,
   "id": "TfTI03GEHROB",
   "metadata": {
    "id": "TfTI03GEHROB"
   },
   "outputs": [],
   "source": [
    "preds, gold = get_preds_and_gold(nlp, docs)"
   ]
  },
  {
   "cell_type": "code",
   "execution_count": null,
   "id": "aGhJve6_LDvN",
   "metadata": {
    "id": "aGhJve6_LDvN"
   },
   "outputs": [],
   "source": [
    "from sklearn.metrics import ConfusionMatrixDisplay, confusion_matrix\n",
    "import matplotlib.pyplot as plt\n",
    "import numpy as np"
   ]
  },
  {
   "cell_type": "code",
   "execution_count": null,
   "id": "uaskB1lRKXbn",
   "metadata": {
    "colab": {
     "base_uri": "https://localhost:8080/"
    },
    "id": "uaskB1lRKXbn",
    "outputId": "ac4b9b78-e7f1-4b62-c4fa-62f9eec396b8"
   },
   "outputs": [
    {
     "data": {
      "text/plain": [
       "((1401,), (1401,))"
      ]
     },
     "execution_count": 55,
     "metadata": {},
     "output_type": "execute_result"
    }
   ],
   "source": [
    "gold_arr, pred_arr = np.array(gold), np.array(preds)\n",
    "gold_arr.shape, pred_arr.shape"
   ]
  },
  {
   "cell_type": "code",
   "execution_count": null,
   "id": "cprnz_drLMlo",
   "metadata": {
    "id": "cprnz_drLMlo"
   },
   "outputs": [],
   "source": [
    "def plot_matrix(y_preds, gold, labels): \n",
    "  c_matrix = confusion_matrix(y_true=gold, y_pred=y_preds, normalize=\"true\")\n",
    "  fig, ax = plt.subplots(figsize=(8,8))\n",
    "  display_matrix = ConfusionMatrixDisplay(confusion_matrix=c_matrix,\n",
    "                                          display_labels=labels)\n",
    "  display_matrix.plot(cmap=\"RdPu\",values_format=\".2f\", ax=ax, colorbar=False)\n",
    "  plt.title(\"Confusion Matrix for spaCy Clean model\")\n",
    "  plt.show()"
   ]
  },
  {
   "cell_type": "code",
   "execution_count": null,
   "id": "vJuMOSIYLQKw",
   "metadata": {
    "id": "vJuMOSIYLQKw"
   },
   "outputs": [],
   "source": [
    "classes = [\"soft\",\"tech\",\"none\"]"
   ]
  },
  {
   "cell_type": "code",
   "execution_count": null,
   "id": "chdJI3tsLSGu",
   "metadata": {
    "colab": {
     "base_uri": "https://localhost:8080/",
     "height": 513
    },
    "id": "chdJI3tsLSGu",
    "outputId": "88f09990-5755-4452-d161-fe81114e456b"
   },
   "outputs": [
    {
     "data": {
      "image/png": "[encoded data removed]",
      "text/plain": [
       "<Figure size 576x576 with 1 Axes>"
      ]
     },
     "metadata": {
      "needs_background": "light"
     },
     "output_type": "display_data"
    }
   ],
   "source": [
    "plot_matrix(pred_arr, gold_arr, classes)"
   ]
  }
 ],
 "metadata": {
  "accelerator": "GPU",
  "colab": {
   "provenance": []
  },
  "gpuClass": "premium",
  "kernelspec": {
   "display_name": "Python 3 (ipykernel)",
   "language": "python",
   "name": "python3"
  },
  "language_info": {
   "codemirror_mode": {
    "name": "ipython",
    "version": 3
   },
   "file_extension": ".py",
   "mimetype": "text/x-python",
   "name": "python",
   "nbconvert_exporter": "python",
   "pygments_lexer": "ipython3",
   "version": "3.10.8"
  }
 },
 "nbformat": 4,
 "nbformat_minor": 5
}
