{
 "cells": [
  {
   "cell_type": "markdown",
   "id": "90b99c95",
   "metadata": {
    "id": "90b99c95"
   },
   "source": [
    "## Let's build a TextCategorizer Model using spaCy"
   ]
  },
  {
   "cell_type": "code",
   "execution_count": null,
   "id": "06ac01a3",
   "metadata": {
    "id": "06ac01a3"
   },
   "outputs": [],
   "source": [
    "import pandas as pd \n",
    "import spacy\n",
    "from spacy.tokens import Doc, DocBin\n",
    "import os"
   ]
  },
  {
   "cell_type": "code",
   "execution_count": null,
   "id": "w4FB5RX8ddHI",
   "metadata": {
    "id": "w4FB5RX8ddHI"
   },
   "outputs": [],
   "source": [
    "RUN_IN_COLAB = 'google.colab' in str(get_ipython())"
   ]
  },
  {
   "cell_type": "code",
   "execution_count": null,
   "id": "SDkkGfTVcz2O",
   "metadata": {
    "colab": {
     "base_uri": "https://localhost:8080/"
    },
    "id": "SDkkGfTVcz2O",
    "outputId": "681b5e50-291d-40c4-d43b-339474a539ec"
   },
   "outputs": [
    {
     "name": "stdout",
     "output_type": "stream",
     "text": [
      "Looking in indexes: https://pypi.org/simple, https://us-python.pkg.dev/colab-wheels/public/simple/\n",
      "Collecting de-core-news-lg==3.4.0\n",
      "  Downloading https://github.com/explosion/spacy-models/releases/download/de_core_news_lg-3.4.0/de_core_news_lg-3.4.0-py3-none-any.whl (567.8 MB)\n",
      "\u001b[K     |████████████████████████████████| 567.8 MB 21 kB/s \n",
      "\u001b[?25hRequirement already satisfied: spacy<3.5.0,>=3.4.0 in /usr/local/lib/python3.8/dist-packages (from de-core-news-lg==3.4.0) (3.4.4)\n",
      "Requirement already satisfied: setuptools in /usr/local/lib/python3.8/dist-packages (from spacy<3.5.0,>=3.4.0->de-core-news-lg==3.4.0) (57.4.0)\n",
      "Requirement already satisfied: langcodes<4.0.0,>=3.2.0 in /usr/local/lib/python3.8/dist-packages (from spacy<3.5.0,>=3.4.0->de-core-news-lg==3.4.0) (3.3.0)\n",
      "Requirement already satisfied: typer<0.8.0,>=0.3.0 in /usr/local/lib/python3.8/dist-packages (from spacy<3.5.0,>=3.4.0->de-core-news-lg==3.4.0) (0.7.0)\n",
      "Requirement already satisfied: smart-open<7.0.0,>=5.2.1 in /usr/local/lib/python3.8/dist-packages (from spacy<3.5.0,>=3.4.0->de-core-news-lg==3.4.0) (6.3.0)\n",
      "Requirement already satisfied: requests<3.0.0,>=2.13.0 in /usr/local/lib/python3.8/dist-packages (from spacy<3.5.0,>=3.4.0->de-core-news-lg==3.4.0) (2.23.0)\n",
      "Requirement already satisfied: pydantic!=1.8,!=1.8.1,<1.11.0,>=1.7.4 in /usr/local/lib/python3.8/dist-packages (from spacy<3.5.0,>=3.4.0->de-core-news-lg==3.4.0) (1.10.2)\n",
      "Requirement already satisfied: catalogue<2.1.0,>=2.0.6 in /usr/local/lib/python3.8/dist-packages (from spacy<3.5.0,>=3.4.0->de-core-news-lg==3.4.0) (2.0.8)\n",
      "Requirement already satisfied: pathy>=0.3.5 in /usr/local/lib/python3.8/dist-packages (from spacy<3.5.0,>=3.4.0->de-core-news-lg==3.4.0) (0.10.1)\n",
      "Requirement already satisfied: thinc<8.2.0,>=8.1.0 in /usr/local/lib/python3.8/dist-packages (from spacy<3.5.0,>=3.4.0->de-core-news-lg==3.4.0) (8.1.5)\n",
      "Requirement already satisfied: srsly<3.0.0,>=2.4.3 in /usr/local/lib/python3.8/dist-packages (from spacy<3.5.0,>=3.4.0->de-core-news-lg==3.4.0) (2.4.5)\n",
      "Requirement already satisfied: cymem<2.1.0,>=2.0.2 in /usr/local/lib/python3.8/dist-packages (from spacy<3.5.0,>=3.4.0->de-core-news-lg==3.4.0) (2.0.7)\n",
      "Requirement already satisfied: wasabi<1.1.0,>=0.9.1 in /usr/local/lib/python3.8/dist-packages (from spacy<3.5.0,>=3.4.0->de-core-news-lg==3.4.0) (0.10.1)\n",
      "Requirement already satisfied: numpy>=1.15.0 in /usr/local/lib/python3.8/dist-packages (from spacy<3.5.0,>=3.4.0->de-core-news-lg==3.4.0) (1.21.6)\n",
      "Requirement already satisfied: spacy-loggers<2.0.0,>=1.0.0 in /usr/local/lib/python3.8/dist-packages (from spacy<3.5.0,>=3.4.0->de-core-news-lg==3.4.0) (1.0.4)\n",
      "Requirement already satisfied: preshed<3.1.0,>=3.0.2 in /usr/local/lib/python3.8/dist-packages (from spacy<3.5.0,>=3.4.0->de-core-news-lg==3.4.0) (3.0.8)\n",
      "Requirement already satisfied: packaging>=20.0 in /usr/local/lib/python3.8/dist-packages (from spacy<3.5.0,>=3.4.0->de-core-news-lg==3.4.0) (21.3)\n",
      "Requirement already satisfied: tqdm<5.0.0,>=4.38.0 in /usr/local/lib/python3.8/dist-packages (from spacy<3.5.0,>=3.4.0->de-core-news-lg==3.4.0) (4.64.1)\n",
      "Requirement already satisfied: jinja2 in /usr/local/lib/python3.8/dist-packages (from spacy<3.5.0,>=3.4.0->de-core-news-lg==3.4.0) (2.11.3)\n",
      "Requirement already satisfied: murmurhash<1.1.0,>=0.28.0 in /usr/local/lib/python3.8/dist-packages (from spacy<3.5.0,>=3.4.0->de-core-news-lg==3.4.0) (1.0.9)\n",
      "Requirement already satisfied: spacy-legacy<3.1.0,>=3.0.10 in /usr/local/lib/python3.8/dist-packages (from spacy<3.5.0,>=3.4.0->de-core-news-lg==3.4.0) (3.0.10)\n",
      "Requirement already satisfied: pyparsing!=3.0.5,>=2.0.2 in /usr/local/lib/python3.8/dist-packages (from packaging>=20.0->spacy<3.5.0,>=3.4.0->de-core-news-lg==3.4.0) (3.0.9)\n",
      "Requirement already satisfied: typing-extensions>=4.1.0 in /usr/local/lib/python3.8/dist-packages (from pydantic!=1.8,!=1.8.1,<1.11.0,>=1.7.4->spacy<3.5.0,>=3.4.0->de-core-news-lg==3.4.0) (4.4.0)\n",
      "Requirement already satisfied: chardet<4,>=3.0.2 in /usr/local/lib/python3.8/dist-packages (from requests<3.0.0,>=2.13.0->spacy<3.5.0,>=3.4.0->de-core-news-lg==3.4.0) (3.0.4)\n",
      "Requirement already satisfied: urllib3!=1.25.0,!=1.25.1,<1.26,>=1.21.1 in /usr/local/lib/python3.8/dist-packages (from requests<3.0.0,>=2.13.0->spacy<3.5.0,>=3.4.0->de-core-news-lg==3.4.0) (1.24.3)\n",
      "Requirement already satisfied: idna<3,>=2.5 in /usr/local/lib/python3.8/dist-packages (from requests<3.0.0,>=2.13.0->spacy<3.5.0,>=3.4.0->de-core-news-lg==3.4.0) (2.10)\n",
      "Requirement already satisfied: certifi>=2017.4.17 in /usr/local/lib/python3.8/dist-packages (from requests<3.0.0,>=2.13.0->spacy<3.5.0,>=3.4.0->de-core-news-lg==3.4.0) (2022.12.7)\n",
      "Requirement already satisfied: blis<0.8.0,>=0.7.8 in /usr/local/lib/python3.8/dist-packages (from thinc<8.2.0,>=8.1.0->spacy<3.5.0,>=3.4.0->de-core-news-lg==3.4.0) (0.7.9)\n",
      "Requirement already satisfied: confection<1.0.0,>=0.0.1 in /usr/local/lib/python3.8/dist-packages (from thinc<8.2.0,>=8.1.0->spacy<3.5.0,>=3.4.0->de-core-news-lg==3.4.0) (0.0.3)\n",
      "Requirement already satisfied: click<9.0.0,>=7.1.1 in /usr/local/lib/python3.8/dist-packages (from typer<0.8.0,>=0.3.0->spacy<3.5.0,>=3.4.0->de-core-news-lg==3.4.0) (7.1.2)\n",
      "Requirement already satisfied: MarkupSafe>=0.23 in /usr/local/lib/python3.8/dist-packages (from jinja2->spacy<3.5.0,>=3.4.0->de-core-news-lg==3.4.0) (2.0.1)\n",
      "\u001b[38;5;2m✔ Download and installation successful\u001b[0m\n",
      "You can now load the package via spacy.load('de_core_news_lg')\n"
     ]
    }
   ],
   "source": [
    "if RUN_IN_COLAB:\n",
    "  !python -m spacy download de_core_news_lg"
   ]
  },
  {
   "cell_type": "code",
   "execution_count": null,
   "id": "oXGPunV6d4pI",
   "metadata": {
    "id": "oXGPunV6d4pI"
   },
   "outputs": [],
   "source": [
    "# TODO: Remove\n",
    "def load_model(name): \n",
    "    nlp = spacy.load(name)\n",
    "    de_stop_words = nlp.Defaults.stop_words\n",
    "    return nlp, de_stop_words\n",
    "\n",
    "!mkdir -p ./data/processed/raw/"
   ]
  },
  {
   "cell_type": "code",
   "execution_count": null,
   "id": "bKhQgZz2Dk0i",
   "metadata": {
    "id": "bKhQgZz2Dk0i"
   },
   "outputs": [],
   "source": [
    "# Read training and dev datasets splits\n",
    "BASE_PATH = os.path.join(\"./data/processed/raw\")\n",
    "\n",
    "def get_split(split, base_path=BASE_PATH): \n",
    "    return pd.read_csv(os.path.join(base_path, f\"{split}.csv\"))"
   ]
  },
  {
   "cell_type": "code",
   "execution_count": null,
   "id": "e5f9ca61",
   "metadata": {
    "id": "e5f9ca61"
   },
   "outputs": [],
   "source": [
    "from src.models.helpers import load_model"
   ]
  },
  {
   "cell_type": "code",
   "execution_count": null,
   "id": "e64464a0",
   "metadata": {
    "id": "e64464a0"
   },
   "outputs": [],
   "source": [
    "large_model = \"de_core_news_lg\"\n",
    "\n",
    "nlp, stop_words = load_model(large_model)"
   ]
  },
  {
   "cell_type": "code",
   "execution_count": null,
   "id": "O3z8_mCqDroq",
   "metadata": {
    "colab": {
     "base_uri": "https://localhost:8080/",
     "height": 288
    },
    "id": "O3z8_mCqDroq",
    "outputId": "a65af6bd-01a9-44d9-adf9-b9facf56e3dc"
   },
   "outputs": [
    {
     "data": {
      "text/html": [
       "\n",
       "  <div id=\"df-f9506a1b-ab50-4e93-890c-a2109906ab59\">\n",
       "    <div class=\"colab-df-container\">\n",
       "      <div>\n",
       "<style scoped>\n",
       "    .dataframe tbody tr th:only-of-type {\n",
       "        vertical-align: middle;\n",
       "    }\n",
       "\n",
       "    .dataframe tbody tr th {\n",
       "        vertical-align: top;\n",
       "    }\n",
       "\n",
       "    .dataframe thead th {\n",
       "        text-align: right;\n",
       "    }\n",
       "</style>\n",
       "<table border=\"1\" class=\"dataframe\">\n",
       "  <thead>\n",
       "    <tr style=\"text-align: right;\">\n",
       "      <th></th>\n",
       "      <th>text</th>\n",
       "      <th>tokens</th>\n",
       "      <th>tokens_norm</th>\n",
       "      <th>text_proc</th>\n",
       "      <th>cats</th>\n",
       "      <th>label</th>\n",
       "    </tr>\n",
       "  </thead>\n",
       "  <tbody>\n",
       "    <tr>\n",
       "      <th>0</th>\n",
       "      <td>Wenn Ihnen eine angenehme Arbeitsatmosphäre mi...</td>\n",
       "      <td>[Wenn, Ihnen, eine, angenehme, Arbeitsatmosphä...</td>\n",
       "      <td>['angenehm', 'arbeitsatmosphäre', 'enthusiasmu...</td>\n",
       "      <td>angenehm arbeitsatmosphäre enthusiasmus wert f...</td>\n",
       "      <td>{'tech': False, 'soft': False, 'none': True}</td>\n",
       "      <td>none</td>\n",
       "    </tr>\n",
       "    <tr>\n",
       "      <th>1</th>\n",
       "      <td>***Abitur / Fachhochschulreife</td>\n",
       "      <td>[*, *, *, Abitur, /, Fachhochschulreife]</td>\n",
       "      <td>['abitur', 'fachhochschulreife']</td>\n",
       "      <td>abitur fachhochschulreife</td>\n",
       "      <td>{'tech': False, 'soft': False, 'none': True}</td>\n",
       "      <td>none</td>\n",
       "    </tr>\n",
       "    <tr>\n",
       "      <th>2</th>\n",
       "      <td>Routinierter Umgang mit MS Office-Anwendungen</td>\n",
       "      <td>[Routinierter, Umgang, mit, MS, Office-Anwendu...</td>\n",
       "      <td>['routinierter', 'umgang', 'ms', 'office-anwen...</td>\n",
       "      <td>routinierter umgang ms office-anwendunge</td>\n",
       "      <td>{'tech': True, 'soft': False, 'none': False}</td>\n",
       "      <td>tech</td>\n",
       "    </tr>\n",
       "  </tbody>\n",
       "</table>\n",
       "</div>\n",
       "      <button class=\"colab-df-convert\" onclick=\"convertToInteractive('df-f9506a1b-ab50-4e93-890c-a2109906ab59')\"\n",
       "              title=\"Convert this dataframe to an interactive table.\"\n",
       "              style=\"display:none;\">\n",
       "        \n",
       "  <svg xmlns=\"http://www.w3.org/2000/svg\" height=\"24px\"viewBox=\"0 0 24 24\"\n",
       "       width=\"24px\">\n",
       "    <path d=\"M0 0h24v24H0V0z\" fill=\"none\"/>\n",
       "    <path d=\"M18.56 5.44l.94 2.06.94-2.06 2.06-.94-2.06-.94-.94-2.06-.94 2.06-2.06.94zm-11 1L8.5 8.5l.94-2.06 2.06-.94-2.06-.94L8.5 2.5l-.94 2.06-2.06.94zm10 10l.94 2.06.94-2.06 2.06-.94-2.06-.94-.94-2.06-.94 2.06-2.06.94z\"/><path d=\"M17.41 7.96l-1.37-1.37c-.4-.4-.92-.59-1.43-.59-.52 0-1.04.2-1.43.59L10.3 9.45l-7.72 7.72c-.78.78-.78 2.05 0 2.83L4 21.41c.39.39.9.59 1.41.59.51 0 1.02-.2 1.41-.59l7.78-7.78 2.81-2.81c.8-.78.8-2.07 0-2.86zM5.41 20L4 18.59l7.72-7.72 1.47 1.35L5.41 20z\"/>\n",
       "  </svg>\n",
       "      </button>\n",
       "      \n",
       "  <style>\n",
       "    .colab-df-container {\n",
       "      display:flex;\n",
       "      flex-wrap:wrap;\n",
       "      gap: 12px;\n",
       "    }\n",
       "\n",
       "    .colab-df-convert {\n",
       "      background-color: #E8F0FE;\n",
       "      border: none;\n",
       "      border-radius: 50%;\n",
       "      cursor: pointer;\n",
       "      display: none;\n",
       "      fill: #1967D2;\n",
       "      height: 32px;\n",
       "      padding: 0 0 0 0;\n",
       "      width: 32px;\n",
       "    }\n",
       "\n",
       "    .colab-df-convert:hover {\n",
       "      background-color: #E2EBFA;\n",
       "      box-shadow: 0px 1px 2px rgba(60, 64, 67, 0.3), 0px 1px 3px 1px rgba(60, 64, 67, 0.15);\n",
       "      fill: #174EA6;\n",
       "    }\n",
       "\n",
       "    [theme=dark] .colab-df-convert {\n",
       "      background-color: #3B4455;\n",
       "      fill: #D2E3FC;\n",
       "    }\n",
       "\n",
       "    [theme=dark] .colab-df-convert:hover {\n",
       "      background-color: #434B5C;\n",
       "      box-shadow: 0px 1px 3px 1px rgba(0, 0, 0, 0.15);\n",
       "      filter: drop-shadow(0px 1px 2px rgba(0, 0, 0, 0.3));\n",
       "      fill: #FFFFFF;\n",
       "    }\n",
       "  </style>\n",
       "\n",
       "      <script>\n",
       "        const buttonEl =\n",
       "          document.querySelector('#df-f9506a1b-ab50-4e93-890c-a2109906ab59 button.colab-df-convert');\n",
       "        buttonEl.style.display =\n",
       "          google.colab.kernel.accessAllowed ? 'block' : 'none';\n",
       "\n",
       "        async function convertToInteractive(key) {\n",
       "          const element = document.querySelector('#df-f9506a1b-ab50-4e93-890c-a2109906ab59');\n",
       "          const dataTable =\n",
       "            await google.colab.kernel.invokeFunction('convertToInteractive',\n",
       "                                                     [key], {});\n",
       "          if (!dataTable) return;\n",
       "\n",
       "          const docLinkHtml = 'Like what you see? Visit the ' +\n",
       "            '<a target=\"_blank\" href=https://colab.research.google.com/notebooks/data_table.ipynb>data table notebook</a>'\n",
       "            + ' to learn more about interactive tables.';\n",
       "          element.innerHTML = '';\n",
       "          dataTable['output_type'] = 'display_data';\n",
       "          await google.colab.output.renderOutput(dataTable, element);\n",
       "          const docLink = document.createElement('div');\n",
       "          docLink.innerHTML = docLinkHtml;\n",
       "          element.appendChild(docLink);\n",
       "        }\n",
       "      </script>\n",
       "    </div>\n",
       "  </div>\n",
       "  "
      ],
      "text/plain": [
       "                                                text  \\\n",
       "0  Wenn Ihnen eine angenehme Arbeitsatmosphäre mi...   \n",
       "1                     ***Abitur / Fachhochschulreife   \n",
       "2      Routinierter Umgang mit MS Office-Anwendungen   \n",
       "\n",
       "                                              tokens  \\\n",
       "0  [Wenn, Ihnen, eine, angenehme, Arbeitsatmosphä...   \n",
       "1           [*, *, *, Abitur, /, Fachhochschulreife]   \n",
       "2  [Routinierter, Umgang, mit, MS, Office-Anwendu...   \n",
       "\n",
       "                                         tokens_norm  \\\n",
       "0  ['angenehm', 'arbeitsatmosphäre', 'enthusiasmu...   \n",
       "1                   ['abitur', 'fachhochschulreife']   \n",
       "2  ['routinierter', 'umgang', 'ms', 'office-anwen...   \n",
       "\n",
       "                                           text_proc  \\\n",
       "0  angenehm arbeitsatmosphäre enthusiasmus wert f...   \n",
       "1                          abitur fachhochschulreife   \n",
       "2           routinierter umgang ms office-anwendunge   \n",
       "\n",
       "                                           cats label  \n",
       "0  {'tech': False, 'soft': False, 'none': True}  none  \n",
       "1  {'tech': False, 'soft': False, 'none': True}  none  \n",
       "2  {'tech': True, 'soft': False, 'none': False}  tech  "
      ]
     },
     "execution_count": 11,
     "metadata": {},
     "output_type": "execute_result"
    }
   ],
   "source": [
    "train_df = get_split(split=\"training\")\n",
    "train_df.head(3)"
   ]
  },
  {
   "cell_type": "code",
   "execution_count": null,
   "id": "65849c18",
   "metadata": {
    "colab": {
     "base_uri": "https://localhost:8080/",
     "height": 288
    },
    "id": "65849c18",
    "outputId": "c6f390ee-ba7e-4289-f896-30653b3cbe4d"
   },
   "outputs": [
    {
     "data": {
      "text/html": [
       "\n",
       "  <div id=\"df-53fe3912-f2c2-4e9b-9f2a-804bd5bd14e9\">\n",
       "    <div class=\"colab-df-container\">\n",
       "      <div>\n",
       "<style scoped>\n",
       "    .dataframe tbody tr th:only-of-type {\n",
       "        vertical-align: middle;\n",
       "    }\n",
       "\n",
       "    .dataframe tbody tr th {\n",
       "        vertical-align: top;\n",
       "    }\n",
       "\n",
       "    .dataframe thead th {\n",
       "        text-align: right;\n",
       "    }\n",
       "</style>\n",
       "<table border=\"1\" class=\"dataframe\">\n",
       "  <thead>\n",
       "    <tr style=\"text-align: right;\">\n",
       "      <th></th>\n",
       "      <th>text</th>\n",
       "      <th>tokens</th>\n",
       "      <th>tokens_norm</th>\n",
       "      <th>text_proc</th>\n",
       "      <th>cats</th>\n",
       "      <th>label</th>\n",
       "    </tr>\n",
       "  </thead>\n",
       "  <tbody>\n",
       "    <tr>\n",
       "      <th>0</th>\n",
       "      <td>Assistenz der Geschäftsführung m/w</td>\n",
       "      <td>[Assistenz, der, Geschäftsführung, m, /, w]</td>\n",
       "      <td>['assistenz', 'geschäftsführung', 'm', 'w']</td>\n",
       "      <td>assistenz geschäftsführung m w</td>\n",
       "      <td>{'tech': False, 'soft': False, 'none': True}</td>\n",
       "      <td>none</td>\n",
       "    </tr>\n",
       "    <tr>\n",
       "      <th>1</th>\n",
       "      <td>Detaillierte Kenntnisse des Java Memory Models.</td>\n",
       "      <td>[Detaillierte, Kenntnisse, des, Java, Memory, ...</td>\n",
       "      <td>['detaillierte', 'kenntnis', 'java', 'memory',...</td>\n",
       "      <td>detaillierte kenntnis java memory model</td>\n",
       "      <td>{'tech': True, 'soft': False, 'none': False}</td>\n",
       "      <td>tech</td>\n",
       "    </tr>\n",
       "    <tr>\n",
       "      <th>2</th>\n",
       "      <td>Umzugsbereitschaft in Richtung Osnabrück (Wohn...</td>\n",
       "      <td>[Umzugsbereitschaft, in, Richtung, Osnabrück, ...</td>\n",
       "      <td>['umzugsbereitschaft', 'richtung', 'osnabrück'...</td>\n",
       "      <td>umzugsbereitschaft richtung osnabrück wohnsitz...</td>\n",
       "      <td>{'tech': False, 'soft': True, 'none': False}</td>\n",
       "      <td>soft</td>\n",
       "    </tr>\n",
       "  </tbody>\n",
       "</table>\n",
       "</div>\n",
       "      <button class=\"colab-df-convert\" onclick=\"convertToInteractive('df-53fe3912-f2c2-4e9b-9f2a-804bd5bd14e9')\"\n",
       "              title=\"Convert this dataframe to an interactive table.\"\n",
       "              style=\"display:none;\">\n",
       "        \n",
       "  <svg xmlns=\"http://www.w3.org/2000/svg\" height=\"24px\"viewBox=\"0 0 24 24\"\n",
       "       width=\"24px\">\n",
       "    <path d=\"M0 0h24v24H0V0z\" fill=\"none\"/>\n",
       "    <path d=\"M18.56 5.44l.94 2.06.94-2.06 2.06-.94-2.06-.94-.94-2.06-.94 2.06-2.06.94zm-11 1L8.5 8.5l.94-2.06 2.06-.94-2.06-.94L8.5 2.5l-.94 2.06-2.06.94zm10 10l.94 2.06.94-2.06 2.06-.94-2.06-.94-.94-2.06-.94 2.06-2.06.94z\"/><path d=\"M17.41 7.96l-1.37-1.37c-.4-.4-.92-.59-1.43-.59-.52 0-1.04.2-1.43.59L10.3 9.45l-7.72 7.72c-.78.78-.78 2.05 0 2.83L4 21.41c.39.39.9.59 1.41.59.51 0 1.02-.2 1.41-.59l7.78-7.78 2.81-2.81c.8-.78.8-2.07 0-2.86zM5.41 20L4 18.59l7.72-7.72 1.47 1.35L5.41 20z\"/>\n",
       "  </svg>\n",
       "      </button>\n",
       "      \n",
       "  <style>\n",
       "    .colab-df-container {\n",
       "      display:flex;\n",
       "      flex-wrap:wrap;\n",
       "      gap: 12px;\n",
       "    }\n",
       "\n",
       "    .colab-df-convert {\n",
       "      background-color: #E8F0FE;\n",
       "      border: none;\n",
       "      border-radius: 50%;\n",
       "      cursor: pointer;\n",
       "      display: none;\n",
       "      fill: #1967D2;\n",
       "      height: 32px;\n",
       "      padding: 0 0 0 0;\n",
       "      width: 32px;\n",
       "    }\n",
       "\n",
       "    .colab-df-convert:hover {\n",
       "      background-color: #E2EBFA;\n",
       "      box-shadow: 0px 1px 2px rgba(60, 64, 67, 0.3), 0px 1px 3px 1px rgba(60, 64, 67, 0.15);\n",
       "      fill: #174EA6;\n",
       "    }\n",
       "\n",
       "    [theme=dark] .colab-df-convert {\n",
       "      background-color: #3B4455;\n",
       "      fill: #D2E3FC;\n",
       "    }\n",
       "\n",
       "    [theme=dark] .colab-df-convert:hover {\n",
       "      background-color: #434B5C;\n",
       "      box-shadow: 0px 1px 3px 1px rgba(0, 0, 0, 0.15);\n",
       "      filter: drop-shadow(0px 1px 2px rgba(0, 0, 0, 0.3));\n",
       "      fill: #FFFFFF;\n",
       "    }\n",
       "  </style>\n",
       "\n",
       "      <script>\n",
       "        const buttonEl =\n",
       "          document.querySelector('#df-53fe3912-f2c2-4e9b-9f2a-804bd5bd14e9 button.colab-df-convert');\n",
       "        buttonEl.style.display =\n",
       "          google.colab.kernel.accessAllowed ? 'block' : 'none';\n",
       "\n",
       "        async function convertToInteractive(key) {\n",
       "          const element = document.querySelector('#df-53fe3912-f2c2-4e9b-9f2a-804bd5bd14e9');\n",
       "          const dataTable =\n",
       "            await google.colab.kernel.invokeFunction('convertToInteractive',\n",
       "                                                     [key], {});\n",
       "          if (!dataTable) return;\n",
       "\n",
       "          const docLinkHtml = 'Like what you see? Visit the ' +\n",
       "            '<a target=\"_blank\" href=https://colab.research.google.com/notebooks/data_table.ipynb>data table notebook</a>'\n",
       "            + ' to learn more about interactive tables.';\n",
       "          element.innerHTML = '';\n",
       "          dataTable['output_type'] = 'display_data';\n",
       "          await google.colab.output.renderOutput(dataTable, element);\n",
       "          const docLink = document.createElement('div');\n",
       "          docLink.innerHTML = docLinkHtml;\n",
       "          element.appendChild(docLink);\n",
       "        }\n",
       "      </script>\n",
       "    </div>\n",
       "  </div>\n",
       "  "
      ],
      "text/plain": [
       "                                                text  \\\n",
       "0                 Assistenz der Geschäftsführung m/w   \n",
       "1    Detaillierte Kenntnisse des Java Memory Models.   \n",
       "2  Umzugsbereitschaft in Richtung Osnabrück (Wohn...   \n",
       "\n",
       "                                              tokens  \\\n",
       "0        [Assistenz, der, Geschäftsführung, m, /, w]   \n",
       "1  [Detaillierte, Kenntnisse, des, Java, Memory, ...   \n",
       "2  [Umzugsbereitschaft, in, Richtung, Osnabrück, ...   \n",
       "\n",
       "                                         tokens_norm  \\\n",
       "0        ['assistenz', 'geschäftsführung', 'm', 'w']   \n",
       "1  ['detaillierte', 'kenntnis', 'java', 'memory',...   \n",
       "2  ['umzugsbereitschaft', 'richtung', 'osnabrück'...   \n",
       "\n",
       "                                           text_proc  \\\n",
       "0                     assistenz geschäftsführung m w   \n",
       "1            detaillierte kenntnis java memory model   \n",
       "2  umzugsbereitschaft richtung osnabrück wohnsitz...   \n",
       "\n",
       "                                           cats label  \n",
       "0  {'tech': False, 'soft': False, 'none': True}  none  \n",
       "1  {'tech': True, 'soft': False, 'none': False}  tech  \n",
       "2  {'tech': False, 'soft': True, 'none': False}  soft  "
      ]
     },
     "execution_count": 12,
     "metadata": {},
     "output_type": "execute_result"
    }
   ],
   "source": [
    "dev_df = get_split(split=\"dev\")\n",
    "dev_df.head(3)"
   ]
  },
  {
   "cell_type": "code",
   "execution_count": null,
   "id": "T6RPz3GQeZ0n",
   "metadata": {
    "colab": {
     "base_uri": "https://localhost:8080/",
     "height": 288
    },
    "id": "T6RPz3GQeZ0n",
    "outputId": "83ca9c4b-b1bf-423e-c965-04c17cf06557"
   },
   "outputs": [
    {
     "data": {
      "text/html": [
       "\n",
       "  <div id=\"df-2dd649c7-cf81-4762-a0c3-80eab7172cd2\">\n",
       "    <div class=\"colab-df-container\">\n",
       "      <div>\n",
       "<style scoped>\n",
       "    .dataframe tbody tr th:only-of-type {\n",
       "        vertical-align: middle;\n",
       "    }\n",
       "\n",
       "    .dataframe tbody tr th {\n",
       "        vertical-align: top;\n",
       "    }\n",
       "\n",
       "    .dataframe thead th {\n",
       "        text-align: right;\n",
       "    }\n",
       "</style>\n",
       "<table border=\"1\" class=\"dataframe\">\n",
       "  <thead>\n",
       "    <tr style=\"text-align: right;\">\n",
       "      <th></th>\n",
       "      <th>text</th>\n",
       "      <th>tokens</th>\n",
       "      <th>tokens_norm</th>\n",
       "      <th>text_proc</th>\n",
       "      <th>cats</th>\n",
       "      <th>label</th>\n",
       "    </tr>\n",
       "  </thead>\n",
       "  <tbody>\n",
       "    <tr>\n",
       "      <th>0</th>\n",
       "      <td>Umfangreiche Kenntnisse mind. eines der CAD-Sy...</td>\n",
       "      <td>[Umfangreiche, Kenntnisse, mind., eines, der, ...</td>\n",
       "      <td>['umfangreich', 'kenntnis', 'mind.', 'cad-syst...</td>\n",
       "      <td>umfangreich kenntnis mind. cad-system proe wf4...</td>\n",
       "      <td>{'tech': True, 'soft': False, 'none': False}</td>\n",
       "      <td>tech</td>\n",
       "    </tr>\n",
       "    <tr>\n",
       "      <th>1</th>\n",
       "      <td>Anschreiben:</td>\n",
       "      <td>[Anschreiben, :]</td>\n",
       "      <td>['anschreiben']</td>\n",
       "      <td>anschreiben</td>\n",
       "      <td>{'tech': False, 'soft': False, 'none': True}</td>\n",
       "      <td>none</td>\n",
       "    </tr>\n",
       "    <tr>\n",
       "      <th>2</th>\n",
       "      <td>Sehr gute Kenntnisse der Office-Anwendungen.</td>\n",
       "      <td>[Sehr, gute, Kenntnisse, der, Office-Anwendung...</td>\n",
       "      <td>['kenntnis', 'office-anwendunge']</td>\n",
       "      <td>kenntnis office-anwendunge</td>\n",
       "      <td>{'tech': True, 'soft': False, 'none': False}</td>\n",
       "      <td>tech</td>\n",
       "    </tr>\n",
       "  </tbody>\n",
       "</table>\n",
       "</div>\n",
       "      <button class=\"colab-df-convert\" onclick=\"convertToInteractive('df-2dd649c7-cf81-4762-a0c3-80eab7172cd2')\"\n",
       "              title=\"Convert this dataframe to an interactive table.\"\n",
       "              style=\"display:none;\">\n",
       "        \n",
       "  <svg xmlns=\"http://www.w3.org/2000/svg\" height=\"24px\"viewBox=\"0 0 24 24\"\n",
       "       width=\"24px\">\n",
       "    <path d=\"M0 0h24v24H0V0z\" fill=\"none\"/>\n",
       "    <path d=\"M18.56 5.44l.94 2.06.94-2.06 2.06-.94-2.06-.94-.94-2.06-.94 2.06-2.06.94zm-11 1L8.5 8.5l.94-2.06 2.06-.94-2.06-.94L8.5 2.5l-.94 2.06-2.06.94zm10 10l.94 2.06.94-2.06 2.06-.94-2.06-.94-.94-2.06-.94 2.06-2.06.94z\"/><path d=\"M17.41 7.96l-1.37-1.37c-.4-.4-.92-.59-1.43-.59-.52 0-1.04.2-1.43.59L10.3 9.45l-7.72 7.72c-.78.78-.78 2.05 0 2.83L4 21.41c.39.39.9.59 1.41.59.51 0 1.02-.2 1.41-.59l7.78-7.78 2.81-2.81c.8-.78.8-2.07 0-2.86zM5.41 20L4 18.59l7.72-7.72 1.47 1.35L5.41 20z\"/>\n",
       "  </svg>\n",
       "      </button>\n",
       "      \n",
       "  <style>\n",
       "    .colab-df-container {\n",
       "      display:flex;\n",
       "      flex-wrap:wrap;\n",
       "      gap: 12px;\n",
       "    }\n",
       "\n",
       "    .colab-df-convert {\n",
       "      background-color: #E8F0FE;\n",
       "      border: none;\n",
       "      border-radius: 50%;\n",
       "      cursor: pointer;\n",
       "      display: none;\n",
       "      fill: #1967D2;\n",
       "      height: 32px;\n",
       "      padding: 0 0 0 0;\n",
       "      width: 32px;\n",
       "    }\n",
       "\n",
       "    .colab-df-convert:hover {\n",
       "      background-color: #E2EBFA;\n",
       "      box-shadow: 0px 1px 2px rgba(60, 64, 67, 0.3), 0px 1px 3px 1px rgba(60, 64, 67, 0.15);\n",
       "      fill: #174EA6;\n",
       "    }\n",
       "\n",
       "    [theme=dark] .colab-df-convert {\n",
       "      background-color: #3B4455;\n",
       "      fill: #D2E3FC;\n",
       "    }\n",
       "\n",
       "    [theme=dark] .colab-df-convert:hover {\n",
       "      background-color: #434B5C;\n",
       "      box-shadow: 0px 1px 3px 1px rgba(0, 0, 0, 0.15);\n",
       "      filter: drop-shadow(0px 1px 2px rgba(0, 0, 0, 0.3));\n",
       "      fill: #FFFFFF;\n",
       "    }\n",
       "  </style>\n",
       "\n",
       "      <script>\n",
       "        const buttonEl =\n",
       "          document.querySelector('#df-2dd649c7-cf81-4762-a0c3-80eab7172cd2 button.colab-df-convert');\n",
       "        buttonEl.style.display =\n",
       "          google.colab.kernel.accessAllowed ? 'block' : 'none';\n",
       "\n",
       "        async function convertToInteractive(key) {\n",
       "          const element = document.querySelector('#df-2dd649c7-cf81-4762-a0c3-80eab7172cd2');\n",
       "          const dataTable =\n",
       "            await google.colab.kernel.invokeFunction('convertToInteractive',\n",
       "                                                     [key], {});\n",
       "          if (!dataTable) return;\n",
       "\n",
       "          const docLinkHtml = 'Like what you see? Visit the ' +\n",
       "            '<a target=\"_blank\" href=https://colab.research.google.com/notebooks/data_table.ipynb>data table notebook</a>'\n",
       "            + ' to learn more about interactive tables.';\n",
       "          element.innerHTML = '';\n",
       "          dataTable['output_type'] = 'display_data';\n",
       "          await google.colab.output.renderOutput(dataTable, element);\n",
       "          const docLink = document.createElement('div');\n",
       "          docLink.innerHTML = docLinkHtml;\n",
       "          element.appendChild(docLink);\n",
       "        }\n",
       "      </script>\n",
       "    </div>\n",
       "  </div>\n",
       "  "
      ],
      "text/plain": [
       "                                                text  \\\n",
       "0  Umfangreiche Kenntnisse mind. eines der CAD-Sy...   \n",
       "1                                       Anschreiben:   \n",
       "2       Sehr gute Kenntnisse der Office-Anwendungen.   \n",
       "\n",
       "                                              tokens  \\\n",
       "0  [Umfangreiche, Kenntnisse, mind., eines, der, ...   \n",
       "1                                   [Anschreiben, :]   \n",
       "2  [Sehr, gute, Kenntnisse, der, Office-Anwendung...   \n",
       "\n",
       "                                         tokens_norm  \\\n",
       "0  ['umfangreich', 'kenntnis', 'mind.', 'cad-syst...   \n",
       "1                                    ['anschreiben']   \n",
       "2                  ['kenntnis', 'office-anwendunge']   \n",
       "\n",
       "                                           text_proc  \\\n",
       "0  umfangreich kenntnis mind. cad-system proe wf4...   \n",
       "1                                        anschreiben   \n",
       "2                         kenntnis office-anwendunge   \n",
       "\n",
       "                                           cats label  \n",
       "0  {'tech': True, 'soft': False, 'none': False}  tech  \n",
       "1  {'tech': False, 'soft': False, 'none': True}  none  \n",
       "2  {'tech': True, 'soft': False, 'none': False}  tech  "
      ]
     },
     "execution_count": 13,
     "metadata": {},
     "output_type": "execute_result"
    }
   ],
   "source": [
    "test_df = get_split(split=\"test\")\n",
    "test_df.head(3)"
   ]
  },
  {
   "cell_type": "markdown",
   "id": "a33feb0b",
   "metadata": {
    "id": "a33feb0b"
   },
   "source": [
    "## Build the Binary Docs for Training\n",
    "\n",
    "For this particular model, I have used the raw text, as I want to use it as one of the baselines for training."
   ]
  },
  {
   "cell_type": "code",
   "execution_count": null,
   "id": "be77f248",
   "metadata": {
    "id": "be77f248"
   },
   "outputs": [],
   "source": [
    "# Let's process training data\n",
    "\n",
    "def data_to_bindoc(df, split):\n",
    "    docs = []\n",
    "    for idx, doc in enumerate(nlp.pipe(df['text'], batch_size=100)):\n",
    "        doc.cats = eval(df.iloc[idx].cats)\n",
    "        docs.append(doc)\n",
    "            \n",
    "    doc_bin = DocBin(docs=docs)\n",
    "    data_path = f\"./data/{split}_raw.spacy\"\n",
    "    doc_bin.to_disk(data_path)\n",
    "    print(f\"Proccesed and saved BinDoc for split:{split} to:{data_path}\")"
   ]
  },
  {
   "cell_type": "code",
   "execution_count": null,
   "id": "e77112e7",
   "metadata": {
    "colab": {
     "base_uri": "https://localhost:8080/"
    },
    "id": "e77112e7",
    "outputId": "bdadaaa2-d29f-4e4d-b287-eaf06e7106a6"
   },
   "outputs": [
    {
     "name": "stdout",
     "output_type": "stream",
     "text": [
      "Proccesed and saved BinDoc for split:train to:./data/train_raw.spacy\n"
     ]
    }
   ],
   "source": [
    "data_to_bindoc(train_df, \"train\")"
   ]
  },
  {
   "cell_type": "code",
   "execution_count": null,
   "id": "349b15ba",
   "metadata": {
    "colab": {
     "base_uri": "https://localhost:8080/"
    },
    "id": "349b15ba",
    "outputId": "0be72d68-96d5-49e8-8244-9d3575b2ab46"
   },
   "outputs": [
    {
     "name": "stdout",
     "output_type": "stream",
     "text": [
      "Proccesed and saved BinDoc for split:dev to:./data/dev_raw.spacy\n"
     ]
    }
   ],
   "source": [
    "data_to_bindoc(dev_df, \"dev\")"
   ]
  },
  {
   "cell_type": "code",
   "execution_count": null,
   "id": "bPJql5Ljsfse",
   "metadata": {
    "colab": {
     "base_uri": "https://localhost:8080/"
    },
    "id": "bPJql5Ljsfse",
    "outputId": "356d526f-ac24-47c9-f0c0-5e5b4497e0d8"
   },
   "outputs": [
    {
     "name": "stdout",
     "output_type": "stream",
     "text": [
      "Proccesed and saved BinDoc for split:test to:./data/test_raw.spacy\n"
     ]
    }
   ],
   "source": [
    "data_to_bindoc(test_df, \"test\")"
   ]
  },
  {
   "cell_type": "markdown",
   "id": "b89bf7f7",
   "metadata": {
    "id": "b89bf7f7"
   },
   "source": [
    "## Process the config"
   ]
  },
  {
   "cell_type": "code",
   "execution_count": null,
   "id": "892eadee",
   "metadata": {
    "colab": {
     "base_uri": "https://localhost:8080/"
    },
    "id": "892eadee",
    "outputId": "e4fcff0a-7b3c-42ca-cc33-49037f5e6db3"
   },
   "outputs": [
    {
     "name": "stdout",
     "output_type": "stream",
     "text": [
      "\u001b[38;5;2m✔ Auto-filled config with all values\u001b[0m\n",
      "\u001b[38;5;2m✔ Saved config\u001b[0m\n",
      "config/config.cfg\n",
      "You can now add your data and train your pipeline:\n",
      "python -m spacy train config.cfg --paths.train ./train.spacy --paths.dev ./dev.spacy\n"
     ]
    }
   ],
   "source": [
    "!python -m spacy init fill-config ./config/base_config.cfg ./config/config.cfg"
   ]
  },
  {
   "cell_type": "code",
   "execution_count": null,
   "id": "Uq15lq0CoxDd",
   "metadata": {
    "colab": {
     "base_uri": "https://localhost:8080/"
    },
    "id": "Uq15lq0CoxDd",
    "outputId": "515f6794-83a9-4040-d83f-da49ff33dd1a"
   },
   "outputs": [
    {
     "name": "stdout",
     "output_type": "stream",
     "text": [
      "\u001b[1m\n",
      "============================ Data file validation ============================\u001b[0m\n",
      "tcmalloc: large alloc 1200005120 bytes == 0x5de8c000 @  0x7f2246f8a2a4 0x7f22260aae09 0x7f22260a9cdf 0x7f22260a6675 0x7f22260a6e2e 0x4f750a 0x4997a2 0x55cd91 0x5d8941 0x49abe4 0x7f20a9fb5d78 0x7f20a9fb870e 0x7f20a9fc05a7 0x7f20a9fc3e85 0x5d8d8c 0x55dc1e 0x5d8868 0x4990ca 0x7f20a9fb5d78 0x7f20a9fb870e 0x7f20a9fbfe4b 0x5d80be 0x5d8d8c 0x55ea20 0x55d078 0x5d8941 0x49abe4 0x55d078 0x5d8941 0x4997a2 0x55d078\n",
      "tcmalloc: large alloc 1213743104 bytes == 0xc932c000 @  0x7f2246f8a2a4 0x7f22260a83a2 0x7f22260a9cdf 0x7f22260a6675 0x7f22260a6e2e 0x4f750a 0x4997a2 0x55cd91 0x5d8941 0x49abe4 0x5d8868 0x4997c7 0x7f20a9fb5d78 0x7f20a9fb870e 0x7f20a9fbfe4b 0x5d80be 0x5d8d8c 0x55ea20 0x55d078 0x5d8941 0x49abe4 0x55d078 0x5d8941 0x4997a2 0x55d078 0x5d8941 0x49abe4 0x55cd91 0x5d8941 0x5d8416 0x55f797\n",
      "\u001b[38;5;2m✔ Pipeline can be initialized with data\u001b[0m\n",
      "\u001b[38;5;2m✔ Corpus is loadable\u001b[0m\n",
      "\u001b[1m\n",
      "=============================== Training stats ===============================\u001b[0m\n",
      "Language: de\n",
      "Training pipeline: tok2vec, textcat\n",
      "6975 training docs\n",
      "1532 evaluation docs\n",
      "\u001b[38;5;2m✔ No overlap between training and evaluation data\u001b[0m\n",
      "\u001b[1m\n",
      "============================== Vocab & Vectors ==============================\u001b[0m\n",
      "\u001b[38;5;4mℹ 79918 total word(s) in the data (14794 unique)\u001b[0m\n",
      "\u001b[38;5;4mℹ 500000 vectors (500000 unique keys, 300 dimensions)\u001b[0m\n",
      "\u001b[38;5;3m⚠ 4877 words in training data without vectors (6%)\u001b[0m\n",
      "\u001b[1m\n",
      "================== Text Classification (Exclusive Classes) ==================\u001b[0m\n",
      "\u001b[38;5;4mℹ Text Classification: 3 label(s)\u001b[0m\n",
      "\u001b[1m\n",
      "================================== Summary ==================================\u001b[0m\n",
      "\u001b[38;5;2m✔ 3 checks passed\u001b[0m\n",
      "\u001b[38;5;3m⚠ 1 warning\u001b[0m\n"
     ]
    }
   ],
   "source": [
    "! python -m spacy debug data ./config/config.cfg"
   ]
  },
  {
   "cell_type": "markdown",
   "id": "c01674d9",
   "metadata": {
    "id": "c01674d9"
   },
   "source": [
    "## Perform Training"
   ]
  },
  {
   "cell_type": "code",
   "execution_count": null,
   "id": "b733aa41",
   "metadata": {
    "colab": {
     "base_uri": "https://localhost:8080/"
    },
    "id": "b733aa41",
    "outputId": "9a5400fd-50a4-4a74-90e5-770c09ed5f8f",
    "scrolled": true
   },
   "outputs": [
    {
     "name": "stdout",
     "output_type": "stream",
     "text": [
      "\u001b[38;5;4mℹ Saving to output directory: textcat_simple\u001b[0m\n",
      "\u001b[38;5;4mℹ Using GPU: 0\u001b[0m\n",
      "\u001b[1m\n",
      "=========================== Initializing pipeline ===========================\u001b[0m\n",
      "[2022-12-22 19:41:32,497] [INFO] Set up nlp object from config\n",
      "INFO:spacy:Set up nlp object from config\n",
      "[2022-12-22 19:41:32,508] [INFO] Pipeline: ['tok2vec', 'textcat']\n",
      "INFO:spacy:Pipeline: ['tok2vec', 'textcat']\n",
      "[2022-12-22 19:41:32,512] [INFO] Created vocabulary\n",
      "INFO:spacy:Created vocabulary\n",
      "[2022-12-22 19:41:35,092] [INFO] Added vectors: de_core_news_lg\n",
      "INFO:spacy:Added vectors: de_core_news_lg\n",
      "tcmalloc: large alloc 1200005120 bytes == 0xa348a000 @  0x7ffb3abdd2a4 0x7ffb19d0ae09 0x7ffb19d09cdf 0x7ffb19d06675 0x7ffb19d06e2e 0x4f750a 0x4997a2 0x55cd91 0x5d8941 0x49abe4 0x7ff99dc39d78 0x7ff99dc3c70e 0x7ff99dc445a7 0x7ff99dc47e85 0x5d8d8c 0x55dc1e 0x5d8868 0x4990ca 0x7ff99dc39d78 0x7ff99dc3c70e 0x7ff99dc43e4b 0x5d80be 0x5d8d8c 0x55ea20 0x55d078 0x5d8941 0x49abe4 0x4fe253 0x49abe4 0x55d078 0x5d8941\n",
      "tcmalloc: large alloc 1213743104 bytes == 0x7f854000 @  0x7ffb3abdd2a4 0x7ffb19d083a2 0x7ffb19d09cdf 0x7ffb19d06675 0x7ffb19d06e2e 0x4f750a 0x4997a2 0x55cd91 0x5d8941 0x49abe4 0x5d8868 0x4997c7 0x7ff99dc39d78 0x7ff99dc3c70e 0x7ff99dc43e4b 0x5d80be 0x5d8d8c 0x55ea20 0x55d078 0x5d8941 0x49abe4 0x4fe253 0x49abe4 0x55d078 0x5d8941 0x49abe4 0x55d078 0x5d8941 0x49abe4 0x55cd91 0x5d8941\n",
      "[2022-12-22 19:41:36,915] [INFO] Finished initializing nlp object\n",
      "INFO:spacy:Finished initializing nlp object\n",
      "[2022-12-22 19:41:42,802] [INFO] Initialized pipeline components: ['tok2vec', 'textcat']\n",
      "INFO:spacy:Initialized pipeline components: ['tok2vec', 'textcat']\n",
      "\u001b[38;5;2m✔ Initialized pipeline\u001b[0m\n",
      "\u001b[1m\n",
      "============================= Training pipeline =============================\u001b[0m\n",
      "\u001b[38;5;4mℹ Pipeline: ['tok2vec', 'textcat']\u001b[0m\n",
      "\u001b[38;5;4mℹ Initial learn rate: 0.001\u001b[0m\n",
      "E    #       LOSS TOK2VEC  LOSS TEXTCAT  CATS_SCORE  SCORE \n",
      "---  ------  ------------  ------------  ----------  ------\n",
      "  0       0          0.00          0.22        0.00    0.00\n",
      "  0     200         61.35         22.51       84.14    0.84\n",
      "  0     400        152.96         15.80       84.31    0.84\n",
      "  0     600        370.76         12.59       86.66    0.87\n",
      "  1     800        873.67         10.81       88.59    0.89\n",
      "  2    1000       1599.24          9.19       87.80    0.88\n",
      "  2    1200       2158.54          8.02       90.14    0.90\n",
      "  3    1400       4959.64          6.81       89.50    0.89\n",
      "  4    1600      10044.64          5.00       91.49    0.91\n",
      "  5    1800       9352.23          4.28       91.18    0.91\n",
      "  7    2000      15639.98          3.59       91.74    0.92\n",
      "  9    2200      17685.52          2.78       92.16    0.92\n",
      " 11    2400      26260.64          2.29       91.82    0.92\n",
      " 14    2600      36429.64          2.05       92.06    0.92\n",
      " 16    2800      31077.49          1.59       91.73    0.92\n",
      " 19    3000      43704.31          1.41       90.27    0.90\n",
      " 21    3200      57063.44          1.31       91.86    0.92\n",
      " 24    3400      82256.27          1.09       92.25    0.92\n",
      " 26    3600      77320.08          1.21       91.78    0.92\n",
      " 29    3800     136012.14          1.11       92.45    0.92\n",
      " 31    4000      73921.58          0.99       91.68    0.92\n",
      " 34    4200      91140.72          0.92       92.12    0.92\n",
      " 36    4400     197795.92          0.89       92.32    0.92\n",
      " 38    4600      80790.43          0.84       93.20    0.93\n",
      " 41    4800     145474.82          0.77       92.76    0.93\n",
      " 43    5000     110442.40          0.61       92.13    0.92\n",
      " 46    5200     120800.75          0.64       92.79    0.93\n",
      " 48    5400     121901.91          0.79       92.25    0.92\n",
      " 51    5600     129140.85          0.58       93.39    0.93\n",
      " 53    5800     268325.01          0.88       93.15    0.93\n",
      " 56    6000     131026.54          0.60       92.87    0.93\n",
      " 58    6200      98660.48          0.50       93.05    0.93\n",
      " 61    6400     266114.94          0.62       91.92    0.92\n",
      " 63    6600     151121.55          0.48       93.00    0.93\n",
      " 65    6800     257992.59          0.52       92.79    0.93\n",
      " 68    7000     226536.37          0.43       92.59    0.93\n",
      " 70    7200     219752.45          0.49       93.04    0.93\n",
      "\u001b[38;5;2m✔ Saved pipeline to output directory\u001b[0m\n",
      "textcat_simple/model-last\n"
     ]
    }
   ],
   "source": [
    "!python -m spacy train ./config/config.cfg --gpu-id 0 --output textcat_simple"
   ]
  },
  {
   "cell_type": "markdown",
   "id": "d4721535",
   "metadata": {
    "id": "d4721535"
   },
   "source": [
    "## Evaluate\n",
    "\n",
    "\n",
    "Let's load the best model and try to evaluate on a single example"
   ]
  },
  {
   "cell_type": "code",
   "execution_count": null,
   "id": "00f72f87",
   "metadata": {
    "colab": {
     "base_uri": "https://localhost:8080/"
    },
    "id": "00f72f87",
    "outputId": "312cbeed-1282-4081-abe0-60fd629f3af6"
   },
   "outputs": [
    {
     "name": "stdout",
     "output_type": "stream",
     "text": [
      "evaluate.json  model-best  model-last\n"
     ]
    }
   ],
   "source": [
    "!ls textcat_simple/"
   ]
  },
  {
   "cell_type": "code",
   "execution_count": null,
   "id": "255c5579",
   "metadata": {
    "id": "255c5579"
   },
   "outputs": [],
   "source": [
    "nlp = spacy.load(\"textcat_simple/model-best\")"
   ]
  },
  {
   "cell_type": "code",
   "execution_count": null,
   "id": "c8315b22",
   "metadata": {
    "colab": {
     "base_uri": "https://localhost:8080/"
    },
    "id": "c8315b22",
    "outputId": "ac417f84-f617-4606-a70f-09b40fe16829"
   },
   "outputs": [
    {
     "data": {
      "text/plain": [
       "{'tech': 0.9993124008178711,\n",
       " 'soft': 0.0005922773852944374,\n",
       " 'none': 9.535031131235883e-05}"
      ]
     },
     "execution_count": 32,
     "metadata": {},
     "output_type": "execute_result"
    }
   ],
   "source": [
    "doc = nlp(\"Kenntnisse im Bereich Online-Dienste von Vorteil\")\n",
    "doc.cats"
   ]
  },
  {
   "cell_type": "markdown",
   "id": "Pfmi5g7wzw3Y",
   "metadata": {
    "id": "Pfmi5g7wzw3Y"
   },
   "source": [
    "### Evaluate using spacy evaluate"
   ]
  },
  {
   "cell_type": "code",
   "execution_count": null,
   "id": "01e6f8bb",
   "metadata": {
    "colab": {
     "base_uri": "https://localhost:8080/"
    },
    "id": "01e6f8bb",
    "outputId": "1888e2b6-0fe6-4003-dfad-4b1c96c84211"
   },
   "outputs": [
    {
     "name": "stdout",
     "output_type": "stream",
     "text": [
      "\u001b[38;5;4mℹ Using CPU\u001b[0m\n",
      "\u001b[38;5;4mℹ To switch to GPU 0, use the option: --gpu-id 0\u001b[0m\n",
      "\u001b[1m\n",
      "================================== Results ==================================\u001b[0m\n",
      "\n",
      "TOK                 100.00\n",
      "TEXTCAT (macro F)   93.65 \n",
      "SPEED               2964  \n",
      "\n",
      "\u001b[1m\n",
      "=========================== Textcat F (per label) ===========================\u001b[0m\n",
      "\n",
      "           P       R       F\n",
      "tech   95.36   87.27   91.14\n",
      "soft   92.93   95.18   94.04\n",
      "none   94.74   96.84   95.78\n",
      "\n",
      "\u001b[1m\n",
      "======================== Textcat ROC AUC (per label) ========================\u001b[0m\n",
      "\n",
      "       ROC AUC\n",
      "tech      0.98\n",
      "soft      0.99\n",
      "none      0.99\n",
      "\n",
      "\u001b[38;5;2m✔ Saved results to textcat_simple/evaluate.json\u001b[0m\n"
     ]
    }
   ],
   "source": [
    "!python -m spacy evaluate textcat_simple/model-best/ ./data/test_raw.spacy --output textcat_simple/evaluate.json"
   ]
  },
  {
   "cell_type": "code",
   "execution_count": null,
   "id": "lgeJ8A_m8yIe",
   "metadata": {
    "colab": {
     "base_uri": "https://localhost:8080/"
    },
    "id": "lgeJ8A_m8yIe",
    "outputId": "d280d8fe-b13a-4441-d651-5c7b963ec9b6"
   },
   "outputs": [
    {
     "name": "stdout",
     "output_type": "stream",
     "text": [
      "textcat_simple/model-best/config.cfg\n",
      "textcat_simple/model-best/meta.json\n",
      "textcat_simple/model-best/textcat/\n",
      "textcat_simple/model-best/textcat/cfg\n",
      "textcat_simple/model-best/textcat/model\n",
      "textcat_simple/model-best/tok2vec/\n",
      "textcat_simple/model-best/tok2vec/cfg\n",
      "textcat_simple/model-best/tok2vec/model\n",
      "textcat_simple/model-best/tokenizer\n",
      "textcat_simple/model-best/vocab/\n",
      "textcat_simple/model-best/vocab/key2row\n",
      "textcat_simple/model-best/vocab/strings.json\n",
      "textcat_simple/model-best/vocab/lookups.bin\n",
      "textcat_simple/model-best/vocab/vectors\n",
      "textcat_simple/model-best/vocab/vectors.cfg\n",
      "textcat_simple/evaluate.json\n"
     ]
    }
   ],
   "source": [
    "# Save best model\n",
    "!tar -czvf best_model_raw.tar.gz textcat_simple/model-best/* textcat_simple/evaluate.json"
   ]
  },
  {
   "cell_type": "code",
   "execution_count": null,
   "id": "lAuHgZ4bsXEF",
   "metadata": {
    "colab": {
     "base_uri": "https://localhost:8080/"
    },
    "id": "lAuHgZ4bsXEF",
    "outputId": "8ec495ee-4768-4a30-9fc3-758d2bf60678"
   },
   "outputs": [
    {
     "name": "stdout",
     "output_type": "stream",
     "text": [
      "Mounted at /content/drive\n"
     ]
    }
   ],
   "source": [
    "from google.colab import drive\n",
    "drive.mount('/content/drive',force_remount=True)"
   ]
  },
  {
   "cell_type": "code",
   "execution_count": null,
   "id": "UJ0Kp30AsYF_",
   "metadata": {
    "id": "UJ0Kp30AsYF_"
   },
   "outputs": [],
   "source": [
    "save_to = \"/content/drive/MyDrive/tb_challenge/\"\n",
    "!cp best_model_raw.tar.gz $save_to"
   ]
  },
  {
   "cell_type": "markdown",
   "id": "OtDJj0mEDc46",
   "metadata": {
    "id": "OtDJj0mEDc46"
   },
   "source": [
    "## Obtain Predictions from Text Data"
   ]
  },
  {
   "cell_type": "code",
   "execution_count": null,
   "id": "8s8uICmHDcCK",
   "metadata": {
    "id": "8s8uICmHDcCK"
   },
   "outputs": [],
   "source": [
    "best_model = \"./textcat_simple/model-best/\"\n",
    "test_data = \"./data/test_raw.spacy\""
   ]
  },
  {
   "cell_type": "code",
   "execution_count": null,
   "id": "uMUN9M64Ev77",
   "metadata": {
    "id": "uMUN9M64Ev77"
   },
   "outputs": [],
   "source": [
    "nlp = spacy.load(best_model)\n",
    "docs = DocBin().from_disk(test_data)"
   ]
  },
  {
   "cell_type": "code",
   "execution_count": null,
   "id": "vzN_yJ6IFOkV",
   "metadata": {
    "id": "vzN_yJ6IFOkV"
   },
   "outputs": [],
   "source": [
    "def get_key(d, value):\n",
    "  return next((k for k, v in d.items() if v == value), None) "
   ]
  },
  {
   "cell_type": "code",
   "execution_count": null,
   "id": "EBp169KTKs7H",
   "metadata": {
    "id": "EBp169KTKs7H"
   },
   "outputs": [],
   "source": [
    "idx_to_label = {0: \"tech\", 1: \"soft\", 2: \"none\"}\n",
    "label_to_idx = {\"tech\": 0, \"soft\": 1, \"none\": 2}"
   ]
  },
  {
   "cell_type": "code",
   "execution_count": null,
   "id": "9fnMByGIDtMn",
   "metadata": {
    "id": "9fnMByGIDtMn"
   },
   "outputs": [],
   "source": [
    "def get_preds_and_gold(nlp, docs):\n",
    "  \"\"\"\n",
    "  Created this function to be able to create the confusion matrix\n",
    "  \"\"\"\n",
    "  preds, gold = [], []\n",
    "  for doc in docs.get_docs(nlp.vocab):\n",
    "    true_label = get_key(doc.cats, True)\n",
    "    doc = nlp(doc.text )\n",
    "    pred_label = max(doc.cats, key=doc.cats.get)\n",
    "    preds.append(label_to_idx[pred_label])\n",
    "    gold.append(label_to_idx[true_label])\n",
    "  return preds, gold "
   ]
  },
  {
   "cell_type": "code",
   "execution_count": null,
   "id": "TfTI03GEHROB",
   "metadata": {
    "id": "TfTI03GEHROB"
   },
   "outputs": [],
   "source": [
    "preds, gold = get_preds_and_gold(nlp, docs)"
   ]
  },
  {
   "cell_type": "code",
   "execution_count": null,
   "id": "aGhJve6_LDvN",
   "metadata": {
    "id": "aGhJve6_LDvN"
   },
   "outputs": [],
   "source": [
    "from sklearn.metrics import ConfusionMatrixDisplay, confusion_matrix\n",
    "import matplotlib.pyplot as plt\n",
    "import numpy as np"
   ]
  },
  {
   "cell_type": "code",
   "execution_count": null,
   "id": "uaskB1lRKXbn",
   "metadata": {
    "colab": {
     "base_uri": "https://localhost:8080/"
    },
    "id": "uaskB1lRKXbn",
    "outputId": "ee100286-b334-4daf-ee48-238ac2b9905e"
   },
   "outputs": [
    {
     "data": {
      "text/plain": [
       "((1502,), (1502,))"
      ]
     },
     "execution_count": 45,
     "metadata": {},
     "output_type": "execute_result"
    }
   ],
   "source": [
    "gold_arr, pred_arr = np.array(gold), np.array(preds)\n",
    "gold_arr.shape, pred_arr.shape"
   ]
  },
  {
   "cell_type": "code",
   "execution_count": null,
   "id": "cprnz_drLMlo",
   "metadata": {
    "id": "cprnz_drLMlo"
   },
   "outputs": [],
   "source": [
    "def plot_matrix(y_preds, gold, labels): \n",
    "  c_matrix = confusion_matrix(y_true=gold, y_pred=y_preds, normalize=\"true\")\n",
    "  fig, ax = plt.subplots(figsize=(8,8))\n",
    "  display_matrix = ConfusionMatrixDisplay(confusion_matrix=c_matrix,\n",
    "                                          display_labels=labels)\n",
    "  display_matrix.plot(cmap=\"RdPu\",values_format=\".2f\", ax=ax, colorbar=False)\n",
    "  plt.title(\"Confusion Matrix for spaCy model - Cleaned data\")\n",
    "  plt.show()"
   ]
  },
  {
   "cell_type": "code",
   "execution_count": null,
   "id": "vJuMOSIYLQKw",
   "metadata": {
    "id": "vJuMOSIYLQKw"
   },
   "outputs": [],
   "source": [
    "classes = [\"soft\",\"tech\",\"none\"]"
   ]
  },
  {
   "cell_type": "code",
   "execution_count": null,
   "id": "chdJI3tsLSGu",
   "metadata": {
    "colab": {
     "base_uri": "https://localhost:8080/",
     "height": 513
    },
    "id": "chdJI3tsLSGu",
    "outputId": "031673de-7c28-4e97-cef8-a0eb44e1fec9"
   },
   "outputs": [
    {
     "data": {
      "image/png": "[encoded data removed]",
      "text/plain": [
       "<Figure size 576x576 with 1 Axes>"
      ]
     },
     "metadata": {
      "needs_background": "light"
     },
     "output_type": "display_data"
    }
   ],
   "source": [
    "plot_matrix(pred_arr, gold_arr, classes)"
   ]
  }
 ],
 "metadata": {
  "accelerator": "GPU",
  "colab": {
   "provenance": []
  },
  "gpuClass": "premium",
  "kernelspec": {
   "display_name": "Python 3 (ipykernel)",
   "language": "python",
   "name": "python3"
  },
  "language_info": {
   "codemirror_mode": {
    "name": "ipython",
    "version": 3
   },
   "file_extension": ".py",
   "mimetype": "text/x-python",
   "name": "python",
   "nbconvert_exporter": "python",
   "pygments_lexer": "ipython3",
   "version": "3.10.8"
  }
 },
 "nbformat": 4,
 "nbformat_minor": 5
}
