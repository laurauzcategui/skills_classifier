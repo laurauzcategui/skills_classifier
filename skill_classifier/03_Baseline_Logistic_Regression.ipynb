{
 "cells": [
  {
   "cell_type": "markdown",
   "metadata": {
    "id": "c3JDG8zekchc"
   },
   "source": [
    "## Baselines Models - Logistic Regression\n",
    "\n",
    "For the baseline models, I have worked with 2 models: \n",
    "\n",
    "1. Using the Features extracted from German BERT model , used a Majority Class by working with DummyClassifier from sklearn library\n",
    "\n",
    "2. Using the Features Extracted from BERT Model, used a Logistic Regression Classifier from sklearn "
   ]
  },
  {
   "cell_type": "markdown",
   "metadata": {
    "id": "zHO8DPEKmq4y"
   },
   "source": [
    "## 1.1. Baseline 2. Logistic Regression from Feature Extraction with BERT\n",
    "\n"
   ]
  },
  {
   "cell_type": "code",
   "execution_count": null,
   "metadata": {
    "id": "WLjvgLBskOtz"
   },
   "outputs": [],
   "source": [
    "from sklearn.linear_model import LogisticRegression\n",
    "import numpy as np"
   ]
  },
  {
   "cell_type": "code",
   "execution_count": null,
   "metadata": {
    "id": "Wzy3Rquxm7Oo"
   },
   "outputs": [],
   "source": [
    "def load_split(split): \n",
    "\n",
    "  with open(f'{split}.npy', 'rb') as f:\n",
    "    X = np.load(f)\n",
    "    y = np.load(f)\n",
    "    print(X.shape, y.shape)\n",
    "  return X, y"
   ]
  },
  {
   "cell_type": "code",
   "execution_count": null,
   "metadata": {
    "colab": {
     "base_uri": "https://localhost:8080/"
    },
    "id": "LozE2vkrnWDR",
    "outputId": "5e94c9b0-9525-4877-f24a-d4635ba9b424"
   },
   "outputs": [
    {
     "name": "stdout",
     "output_type": "stream",
     "text": [
      "dev.npy\n",
      "test.npy\n",
      "training.npy\n"
     ]
    }
   ],
   "source": [
    "!tar -zvxf dataset_nparray.tar.gz"
   ]
  },
  {
   "cell_type": "code",
   "execution_count": null,
   "metadata": {
    "colab": {
     "base_uri": "https://localhost:8080/"
    },
    "id": "IG9iGINvnfoV",
    "outputId": "fdb49852-2e90-45f8-a35f-2bb52c01dafe"
   },
   "outputs": [
    {
     "name": "stdout",
     "output_type": "stream",
     "text": [
      "(6975, 768) (6975,)\n",
      "(1532, 768) (1532,)\n",
      "(1502, 768) (1502,)\n"
     ]
    }
   ],
   "source": [
    "X_train, y_train = load_split(\"training\")\n",
    "X_dev, y_dev = load_split(\"dev\")\n",
    "X_test, y_test = load_split(\"test\")"
   ]
  },
  {
   "cell_type": "code",
   "execution_count": null,
   "metadata": {
    "colab": {
     "base_uri": "https://localhost:8080/"
    },
    "id": "l5eUcbQtntyv",
    "outputId": "f124ebb2-dacb-4c84-89aa-c0b0588db5b2"
   },
   "outputs": [
    {
     "data": {
      "text/plain": [
       "0.9360313315926893"
      ]
     },
     "execution_count": 6,
     "metadata": {},
     "output_type": "execute_result"
    }
   ],
   "source": [
    "# Build the Classifier ( LogisticRegression )\n",
    "\n",
    "logistic_classifier = LogisticRegression(max_iter=3000)\n",
    "logistic_classifier.fit(X_train, y_train)\n",
    "logistic_classifier.score(X_dev, y_dev)"
   ]
  },
  {
   "cell_type": "markdown",
   "metadata": {
    "id": "HbyF8_Teo3SS"
   },
   "source": [
    "## 2. Evaluation \n",
    "\n",
    "We can observe how the score on the test set is around 42% accuracy. \n",
    "\n",
    "Now we will see how it will perform in other models"
   ]
  },
  {
   "cell_type": "code",
   "execution_count": null,
   "metadata": {
    "colab": {
     "base_uri": "https://localhost:8080/"
    },
    "id": "StufkyP7ocsT",
    "outputId": "2ea9c85d-2d76-46ed-dd9a-5c29c50341b1"
   },
   "outputs": [
    {
     "data": {
      "text/plain": [
       "0.940745672436751"
      ]
     },
     "execution_count": 7,
     "metadata": {},
     "output_type": "execute_result"
    }
   ],
   "source": [
    "# Evaluate on the test set\n",
    "logistic_classifier.score(X_test, y_test)"
   ]
  },
  {
   "cell_type": "code",
   "execution_count": null,
   "metadata": {
    "colab": {
     "base_uri": "https://localhost:8080/"
    },
    "id": "8lBlEM7HqNLF",
    "outputId": "a7cfcd11-4627-4546-956b-c2601825c532"
   },
   "outputs": [
    {
     "data": {
      "text/plain": [
       "array([0, 2, 0, 1, 2])"
      ]
     },
     "execution_count": 8,
     "metadata": {},
     "output_type": "execute_result"
    }
   ],
   "source": [
    "y_preds = logistic_classifier.predict(X_test)\n",
    "y_preds[:5]"
   ]
  },
  {
   "cell_type": "code",
   "execution_count": null,
   "metadata": {
    "id": "WTQgEDnto1qo"
   },
   "outputs": [],
   "source": [
    "from sklearn.metrics import ConfusionMatrixDisplay, confusion_matrix\n",
    "import matplotlib.pyplot as plt"
   ]
  },
  {
   "cell_type": "code",
   "execution_count": null,
   "metadata": {
    "id": "jVBVP7MLpW1g"
   },
   "outputs": [],
   "source": [
    "def plot_matrix(y_preds, gold, labels): \n",
    "  c_matrix = confusion_matrix(y_true=gold, y_pred=y_preds, normalize=\"true\")\n",
    "  fig, ax = plt.subplots(figsize=(8,8))\n",
    "  display_matrix = ConfusionMatrixDisplay(confusion_matrix=c_matrix,\n",
    "                                          display_labels=labels)\n",
    "  display_matrix.plot(cmap=\"RdPu\",values_format=\".2f\", ax=ax, colorbar=False)\n",
    "  plt.title(\"Confusion Matrix for Baseline model\")\n",
    "  plt.show()"
   ]
  },
  {
   "cell_type": "code",
   "execution_count": null,
   "metadata": {
    "id": "5sPv29OLpZBl"
   },
   "outputs": [],
   "source": [
    "classes = [\"soft\",\"tech\",\"none\"]"
   ]
  },
  {
   "cell_type": "code",
   "execution_count": null,
   "metadata": {
    "colab": {
     "base_uri": "https://localhost:8080/",
     "height": 513
    },
    "id": "5gdgFGt1pcdE",
    "outputId": "c5f846a2-8bc0-4f26-db1c-a6f2dfc0c75b"
   },
   "outputs": [
    {
     "data": {
      "image/png": "[encoded data removed]",
      "text/plain": [
       "<Figure size 576x576 with 1 Axes>"
      ]
     },
     "metadata": {
      "needs_background": "light"
     },
     "output_type": "display_data"
    }
   ],
   "source": [
    "plot_matrix(y_preds, y_test, classes)"
   ]
  }
 ],
 "metadata": {
  "colab": {
   "provenance": []
  },
  "kernelspec": {
   "display_name": "Python 3",
   "name": "python3"
  },
  "language_info": {
   "name": "python"
  }
 },
 "nbformat": 4,
 "nbformat_minor": 0
}
