{
 "cells": [
  {
   "cell_type": "markdown",
   "metadata": {
    "id": "c3JDG8zekchc"
   },
   "source": [
    "## Baselines Models - Majority Class\n",
    "\n",
    "For the baseline models, I have worked with 2 models: \n",
    "\n",
    "1. Using the Features extracted from German BERT model , used a Majority Class by working with DummyClassifier from sklearn library"
   ]
  },
  {
   "cell_type": "markdown",
   "metadata": {
    "id": "zHO8DPEKmq4y"
   },
   "source": [
    "## 1.1. Baseline 1. Majority Class from Feature Extraction with BERT\n",
    "\n"
   ]
  },
  {
   "cell_type": "code",
   "execution_count": null,
   "metadata": {
    "id": "WLjvgLBskOtz"
   },
   "outputs": [],
   "source": [
    "from sklearn.dummy import DummyClassifier\n",
    "import numpy as np"
   ]
  },
  {
   "cell_type": "code",
   "execution_count": null,
   "metadata": {
    "id": "Wzy3Rquxm7Oo"
   },
   "outputs": [],
   "source": [
    "def load_split(split): \n",
    "\n",
    "  with open(f'{split}.npy', 'rb') as f:\n",
    "    X = np.load(f)\n",
    "    y = np.load(f)\n",
    "    print(X.shape, y.shape)\n",
    "  return X, y"
   ]
  },
  {
   "cell_type": "code",
   "execution_count": null,
   "metadata": {
    "colab": {
     "base_uri": "https://localhost:8080/"
    },
    "id": "LozE2vkrnWDR",
    "outputId": "114cc8b5-5966-430d-e906-541ab9c9d4be"
   },
   "outputs": [
    {
     "name": "stdout",
     "output_type": "stream",
     "text": [
      "dev.npy\n",
      "test.npy\n",
      "training.npy\n"
     ]
    }
   ],
   "source": [
    "!tar -zvxf dataset_nparray.tar.gz"
   ]
  },
  {
   "cell_type": "code",
   "execution_count": null,
   "metadata": {
    "colab": {
     "base_uri": "https://localhost:8080/"
    },
    "id": "IG9iGINvnfoV",
    "outputId": "ed1c27d7-efae-4f74-974b-b35c050072b8"
   },
   "outputs": [
    {
     "name": "stdout",
     "output_type": "stream",
     "text": [
      "(6975, 768) (6975,)\n",
      "(1532, 768) (1532,)\n",
      "(1502, 768) (1502,)\n"
     ]
    }
   ],
   "source": [
    "X_train, y_train = load_split(\"training\")\n",
    "X_dev, y_dev = load_split(\"dev\")\n",
    "X_test, y_test = load_split(\"test\")"
   ]
  },
  {
   "cell_type": "code",
   "execution_count": null,
   "metadata": {
    "colab": {
     "base_uri": "https://localhost:8080/"
    },
    "id": "l5eUcbQtntyv",
    "outputId": "259bf9dc-6996-45c1-b5f7-24ecd1562253"
   },
   "outputs": [
    {
     "data": {
      "text/plain": [
       "0.4131853785900783"
      ]
     },
     "execution_count": 11,
     "metadata": {},
     "output_type": "execute_result"
    }
   ],
   "source": [
    "# Build the Classifier ( Majority Class )\n",
    "\n",
    "majority_classifier = DummyClassifier(strategy=\"most_frequent\")\n",
    "majority_classifier.fit(X_train, y_train)\n",
    "majority_classifier.score(X_dev, y_dev)"
   ]
  },
  {
   "cell_type": "markdown",
   "metadata": {
    "id": "HbyF8_Teo3SS"
   },
   "source": [
    "## 2. Evaluation \n",
    "\n",
    "We can observe how the score on the test set is around 42% accuracy. \n",
    "\n",
    "Now we will see how it will perform in other models"
   ]
  },
  {
   "cell_type": "code",
   "execution_count": null,
   "metadata": {
    "colab": {
     "base_uri": "https://localhost:8080/"
    },
    "id": "StufkyP7ocsT",
    "outputId": "1bad4d3c-157b-4250-8088-25bbb7982261"
   },
   "outputs": [
    {
     "data": {
      "text/plain": [
       "0.4214380825565912"
      ]
     },
     "execution_count": 20,
     "metadata": {},
     "output_type": "execute_result"
    }
   ],
   "source": [
    "# Evaluate on the test set\n",
    "majority_classifier.score(X_test, y_test)"
   ]
  },
  {
   "cell_type": "code",
   "execution_count": null,
   "metadata": {
    "colab": {
     "base_uri": "https://localhost:8080/"
    },
    "id": "8lBlEM7HqNLF",
    "outputId": "4f5bf0ec-1ddf-42b3-9f31-c0f87f2bc7ea"
   },
   "outputs": [
    {
     "data": {
      "text/plain": [
       "array([2, 2, 2, 2, 2])"
      ]
     },
     "execution_count": 21,
     "metadata": {},
     "output_type": "execute_result"
    }
   ],
   "source": [
    "y_preds = majority_classifier.predict(X_test)\n",
    "y_preds[:5]"
   ]
  },
  {
   "cell_type": "code",
   "execution_count": null,
   "metadata": {
    "id": "WTQgEDnto1qo"
   },
   "outputs": [],
   "source": [
    "from sklearn.metrics import ConfusionMatrixDisplay, confusion_matrix\n",
    "import matplotlib.pyplot as plt"
   ]
  },
  {
   "cell_type": "code",
   "execution_count": null,
   "metadata": {
    "id": "jVBVP7MLpW1g"
   },
   "outputs": [],
   "source": [
    "def plot_matrix(y_preds, gold, labels): \n",
    "  c_matrix = confusion_matrix(y_true=gold, y_pred=y_preds, normalize=\"true\")\n",
    "  fig, ax = plt.subplots(figsize=(8,8))\n",
    "  display_matrix = ConfusionMatrixDisplay(confusion_matrix=c_matrix,\n",
    "                                          display_labels=labels)\n",
    "  display_matrix.plot(cmap=\"RdPu\",values_format=\".2f\", ax=ax, colorbar=False)\n",
    "  plt.title(\"Confusion Matrix for Baseline model\")\n",
    "  plt.show()"
   ]
  },
  {
   "cell_type": "code",
   "execution_count": null,
   "metadata": {
    "id": "5sPv29OLpZBl"
   },
   "outputs": [],
   "source": [
    "classes = [\"soft\",\"tech\",\"none\"]"
   ]
  },
  {
   "cell_type": "code",
   "execution_count": null,
   "metadata": {
    "colab": {
     "base_uri": "https://localhost:8080/",
     "height": 513
    },
    "id": "5gdgFGt1pcdE",
    "outputId": "e3f002e4-4b6a-4f54-e1bf-6c1d2d240b64"
   },
   "outputs": [
    {
     "data": {
      "image/png": "[encoded data removed]",
      "text/plain": [
       "<Figure size 576x576 with 1 Axes>"
      ]
     },
     "metadata": {
      "needs_background": "light"
     },
     "output_type": "display_data"
    }
   ],
   "source": [
    "\n",
    "plot_matrix(y_preds, y_test, classes)"
   ]
  }
 ],
 "metadata": {
  "colab": {
   "provenance": []
  },
  "kernelspec": {
   "display_name": "Python 3",
   "name": "python3"
  },
  "language_info": {
   "name": "python"
  }
 },
 "nbformat": 4,
 "nbformat_minor": 0
}
