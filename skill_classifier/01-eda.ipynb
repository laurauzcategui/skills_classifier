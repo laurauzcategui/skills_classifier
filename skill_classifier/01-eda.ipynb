{
 "cells": [
  {
   "cell_type": "markdown",
   "id": "24305037",
   "metadata": {},
   "source": [
    "## 1. Exploratory Data Analysis\n",
    "\n",
    "## Table of contents\n",
    "\n",
    "1. [Get the data and read it to pandas](#getdata)\n",
    "2. [Info Summary](#summarydata)\n",
    "3. [Class Distribution](#classdist)\n",
    "4. [Check Frequent and Uncommon Words](#topwords)\n",
    "    1. [Top 50 Most Frequent Words](#top50)\n",
    "    1. [Uncommon](#uncommon)\n",
    "4. [Distribution of Tokens per Document](#distpertoken)"
   ]
  },
  {
   "cell_type": "markdown",
   "id": "25e4d90c",
   "metadata": {},
   "source": [
    "### 1. Get the data and read it to pandas <a name=\"getdata\"></a>\n"
   ]
  },
  {
   "cell_type": "code",
   "execution_count": 1,
   "id": "33b55ed6",
   "metadata": {},
   "outputs": [
    {
     "name": "stdout",
     "output_type": "stream",
     "text": [
      "tech_soft_none.json\r\n"
     ]
    }
   ],
   "source": [
    "!ls ./data/raw"
   ]
  },
  {
   "cell_type": "code",
   "execution_count": 2,
   "id": "1e78801c",
   "metadata": {},
   "outputs": [],
   "source": [
    "!wget \"https://drive.google.com/uc?id=1bYFMJ6cz7xm1zDD5Avm5JMz8pp4geRHE&export=download\" -q -O ./data/raw/tech_soft_none.json"
   ]
  },
  {
   "cell_type": "code",
   "execution_count": 3,
   "id": "9ec82576",
   "metadata": {},
   "outputs": [
    {
     "name": "stdout",
     "output_type": "stream",
     "text": [
      "tech_soft_none.json\r\n"
     ]
    }
   ],
   "source": [
    "!ls ./data/raw/"
   ]
  },
  {
   "cell_type": "code",
   "execution_count": 4,
   "id": "5bd672e3",
   "metadata": {},
   "outputs": [
    {
     "name": "stdout",
     "output_type": "stream",
     "text": [
      "{\r\n",
      "    \"data\": [\r\n",
      "        {\r\n",
      "            \"text\": \"Standort Trovarit AG München, Deutschland\",\r\n",
      "            \"label\": \"none\"\r\n",
      "        },\r\n",
      "        {\r\n",
      "            \"text\": \"Wir freuen uns auf Ihre Bewerbung unter Angabe Ihrer Gehaltsvorstellung und Ihres möglichen Eintrittstermins. Der ALTE LEIPZIGER – HALLESCHE Konzern begrüßt ausdrücklich die Bewerbung von Menschen mit Behinderung. Bei Fragen und für weitere Informationen wenden Sie sich gerne an Elke Lang unter 0711-6603-2411 . Ihre ausführlichen Bewerbungsunterlagen senden Sie bitte an bewerbung@hallesche.de oder per Post an: HALLESCHE Krankenversicherung a. G. Personal und Soziales Reinsburgstraße 10 70178 Stuttgart www.hallesche.de\",\r\n",
      "            \"label\": \"none\"\r\n",
      "        },\r\n"
     ]
    }
   ],
   "source": [
    "# check file format\n",
    "!head -n 10 ./data/raw/tech_soft_none.json"
   ]
  },
  {
   "cell_type": "code",
   "execution_count": 5,
   "id": "72b8122d",
   "metadata": {},
   "outputs": [],
   "source": [
    "import pandas as pd \n",
    "import json\n",
    "import matplotlib.pyplot as plt"
   ]
  },
  {
   "cell_type": "markdown",
   "id": "daad74e4",
   "metadata": {},
   "source": [
    "*Notes*:\n",
    "\n",
    "Load the json data then flatten it with pandas"
   ]
  },
  {
   "cell_type": "code",
   "execution_count": 6,
   "id": "99a71368",
   "metadata": {},
   "outputs": [],
   "source": [
    "data_raw = \"./data/raw/tech_soft_none.json\""
   ]
  },
  {
   "cell_type": "code",
   "execution_count": 7,
   "id": "c62ef15c",
   "metadata": {},
   "outputs": [],
   "source": [
    "with open(data_raw, 'r') as f: \n",
    "    data = json.loads(f.read())"
   ]
  },
  {
   "cell_type": "code",
   "execution_count": 8,
   "id": "fcf1e176",
   "metadata": {},
   "outputs": [],
   "source": [
    "# Transform it to Pandas DataFrame\n",
    "skills_df = pd.json_normalize(data, record_path = [\"data\"])"
   ]
  },
  {
   "cell_type": "code",
   "execution_count": 9,
   "id": "ee7290d6",
   "metadata": {},
   "outputs": [
    {
     "data": {
      "text/html": [
       "<div>\n",
       "<style scoped>\n",
       "    .dataframe tbody tr th:only-of-type {\n",
       "        vertical-align: middle;\n",
       "    }\n",
       "\n",
       "    .dataframe tbody tr th {\n",
       "        vertical-align: top;\n",
       "    }\n",
       "\n",
       "    .dataframe thead th {\n",
       "        text-align: right;\n",
       "    }\n",
       "</style>\n",
       "<table border=\"1\" class=\"dataframe\">\n",
       "  <thead>\n",
       "    <tr style=\"text-align: right;\">\n",
       "      <th></th>\n",
       "      <th>text</th>\n",
       "      <th>label</th>\n",
       "    </tr>\n",
       "  </thead>\n",
       "  <tbody>\n",
       "    <tr>\n",
       "      <th>0</th>\n",
       "      <td>Standort Trovarit AG München, Deutschland</td>\n",
       "      <td>none</td>\n",
       "    </tr>\n",
       "    <tr>\n",
       "      <th>1</th>\n",
       "      <td>Wir freuen uns auf Ihre Bewerbung unter Angabe...</td>\n",
       "      <td>none</td>\n",
       "    </tr>\n",
       "    <tr>\n",
       "      <th>2</th>\n",
       "      <td>Qualifikation zur Heimleitung gemäß Heimperson...</td>\n",
       "      <td>tech</td>\n",
       "    </tr>\n",
       "    <tr>\n",
       "      <th>3</th>\n",
       "      <td>Gute organisatorische und konzeptionelle Fähig...</td>\n",
       "      <td>soft</td>\n",
       "    </tr>\n",
       "    <tr>\n",
       "      <th>4</th>\n",
       "      <td>Teamfähigkeit, hohe Flexibilität und Einsatzbe...</td>\n",
       "      <td>soft</td>\n",
       "    </tr>\n",
       "  </tbody>\n",
       "</table>\n",
       "</div>"
      ],
      "text/plain": [
       "                                                text label\n",
       "0          Standort Trovarit AG München, Deutschland  none\n",
       "1  Wir freuen uns auf Ihre Bewerbung unter Angabe...  none\n",
       "2  Qualifikation zur Heimleitung gemäß Heimperson...  tech\n",
       "3  Gute organisatorische und konzeptionelle Fähig...  soft\n",
       "4  Teamfähigkeit, hohe Flexibilität und Einsatzbe...  soft"
      ]
     },
     "execution_count": 9,
     "metadata": {},
     "output_type": "execute_result"
    }
   ],
   "source": [
    "skills_df.head()"
   ]
  },
  {
   "cell_type": "markdown",
   "id": "1f3c9471",
   "metadata": {},
   "source": [
    "**Notes**: \n",
    "\n",
    "Great now that we have the data in a DataFrame, let's do some Data Analysis to understand better our data"
   ]
  },
  {
   "cell_type": "markdown",
   "id": "ae06b799",
   "metadata": {},
   "source": [
    "## 1.2 Check info summary of data <a name=\"summarydata\"></a>\n",
    "\n",
    "Looking at the table below, we can observe: \n",
    "\n",
    "- We have 10.249 records, all of them are non-null which will make it easier for processing the data"
   ]
  },
  {
   "cell_type": "code",
   "execution_count": 10,
   "id": "2d87fe6e",
   "metadata": {},
   "outputs": [
    {
     "name": "stdout",
     "output_type": "stream",
     "text": [
      "<class 'pandas.core.frame.DataFrame'>\n",
      "RangeIndex: 10249 entries, 0 to 10248\n",
      "Data columns (total 2 columns):\n",
      " #   Column  Non-Null Count  Dtype \n",
      "---  ------  --------------  ----- \n",
      " 0   text    10249 non-null  object\n",
      " 1   label   10249 non-null  object\n",
      "dtypes: object(2)\n",
      "memory usage: 160.3+ KB\n"
     ]
    }
   ],
   "source": [
    "skills_df.info()"
   ]
  },
  {
   "cell_type": "markdown",
   "id": "6f03eb5f",
   "metadata": {},
   "source": [
    "## 1.3 Check Class Distribution <a name=\"classdist\"></a>\n",
    "\n",
    "Let's check how many classes are in the dataset and the distribution per class.\n",
    "\n",
    "**Observations**: \n",
    "- We have 3 classes (none, soft and tech) skills\n",
    "- Distribution of classes seems to be a bit unbalanced with regards to `tech` class where only 22% of the dataset represents the class\n",
    "    - `none`: 42.19 % \n",
    "    - `soft`: 35.46 %\n",
    "    - `tech`: 22.33 %\n",
    "    \n",
    "**Considerations on model creation**: \n",
    "- The minority class `tech` might suffer from the imbalance at prediction time, we might want to check options like downsampling/upsampling or weighing of the classes to help with this issue"
   ]
  },
  {
   "cell_type": "code",
   "execution_count": 11,
   "id": "d7814aeb",
   "metadata": {},
   "outputs": [
    {
     "data": {
      "text/plain": [
       "none    0.421992\n",
       "soft    0.354669\n",
       "tech    0.223339\n",
       "Name: label, dtype: float64"
      ]
     },
     "execution_count": 11,
     "metadata": {},
     "output_type": "execute_result"
    }
   ],
   "source": [
    "skills_df['label'].value_counts() / skills_df['label'].shape"
   ]
  },
  {
   "cell_type": "code",
   "execution_count": 12,
   "id": "5afbb3f1",
   "metadata": {},
   "outputs": [
    {
     "data": {
      "image/png": "[encoded data removed]",
      "text/plain": [
       "<Figure size 640x480 with 1 Axes>"
      ]
     },
     "metadata": {},
     "output_type": "display_data"
    }
   ],
   "source": [
    "skills_df[\"label\"].value_counts().sort_index().plot.bar(rot=0, grid=True, color=\"blue\", alpha=0.5)\n",
    "plt.xlabel(\"Class\")\n",
    "plt.ylabel(\"Number of Samples\")\n",
    "plt.title(\"Distribution per class\")\n",
    "plt.show()"
   ]
  },
  {
   "cell_type": "markdown",
   "id": "beaa0a99",
   "metadata": {},
   "source": [
    "## 1.4 Checking Top-Frequent and Uncommon words  <a name=\"topwords\"></a>\n",
    "\n",
    "By doing this check we can analyse if it's necessary to add additional stop words to our model, as certain words might not contribute to our model. \n",
    "\n",
    "Yet another interesting analysis we can perform is to observe the uncommon words, as they might signal our model towards specific prediction of a particular class"
   ]
  },
  {
   "cell_type": "code",
   "execution_count": 13,
   "id": "e64af35d",
   "metadata": {},
   "outputs": [],
   "source": [
    "import spacy\n",
    "from spacy.tokens import Doc"
   ]
  },
  {
   "cell_type": "code",
   "execution_count": 14,
   "id": "f5948d88",
   "metadata": {},
   "outputs": [],
   "source": [
    "de_model = \"de_core_news_lg\"\n",
    "nlp = spacy.load(de_model)\n",
    "de_stop_words = nlp.Defaults.stop_words"
   ]
  },
  {
   "cell_type": "markdown",
   "id": "d958f2bd",
   "metadata": {},
   "source": [
    "####  Let's incorporate to the pipe a lenght of the Doc that is being processed "
   ]
  },
  {
   "cell_type": "code",
   "execution_count": 15,
   "id": "693a10df",
   "metadata": {},
   "outputs": [],
   "source": [
    "def len_doc(doc): \n",
    "    doc_length = len(doc)\n",
    "    return doc_length\n",
    "\n",
    "def len_doc_only_alpha(doc): \n",
    "    doc_length = sum([1 if token.is_alpha else 0 for token in doc])\n",
    "    return doc_length\n",
    "\n",
    "# Set the extension on the doc so we can plot it later\n",
    "Doc.set_extension(\"doc_len\", getter=len_doc, force=True)\n",
    "Doc.set_extension(\"doc_len_alpha\", getter=len_doc_only_alpha, force=True)"
   ]
  },
  {
   "cell_type": "markdown",
   "id": "45edada4",
   "metadata": {},
   "source": [
    "Let's convert the text to Doc using spaCy, so we can obtain frequencies more easily"
   ]
  },
  {
   "cell_type": "code",
   "execution_count": 16,
   "id": "b5c1d22d",
   "metadata": {},
   "outputs": [
    {
     "name": "stdout",
     "output_type": "stream",
     "text": [
      "Tokens:['Standort', 'Trovarit', 'AG', 'München', ',', 'Deutschland'], \n",
      "Doc length:6, \n",
      "Doc length (only alpha):5\n",
      "------------------------------------\n",
      "Tokens:['Wir', 'freuen', 'uns', 'auf', 'Ihre', 'Bewerbung', 'unter', 'Angabe', 'Ihrer', 'Gehaltsvorstellung', 'und', 'Ihres', 'möglichen', 'Eintrittstermins', '.', 'Der', 'ALTE', 'LEIPZIGER', '–', 'HALLESCHE', 'Konzern', 'begrüßt', 'ausdrücklich', 'die', 'Bewerbung', 'von', 'Menschen', 'mit', 'Behinderung', '.', 'Bei', 'Fragen', 'und', 'für', 'weitere', 'Informationen', 'wenden', 'Sie', 'sich', 'gerne', 'an', 'Elke', 'Lang', 'unter', '0711', '-', '6603', '-', '2411', '.', 'Ihre', 'ausführlichen', 'Bewerbungsunterlagen', 'senden', 'Sie', 'bitte', 'an', 'bewerbung@hallesche.de', 'oder', 'per', 'Post', 'an', ':', 'HALLESCHE', 'Krankenversicherung', 'a.', 'G.', 'Personal', 'und', 'Soziales', 'Reinsburgstraße', '10', '70178', 'Stuttgart', 'www.hallesche.de'], \n",
      "Doc length:75, \n",
      "Doc length (only alpha):59\n",
      "------------------------------------\n",
      "Tokens:['Qualifikation', 'zur', 'Heimleitung', 'gemäß', 'Heimpersonalverordnung'], \n",
      "Doc length:5, \n",
      "Doc length (only alpha):5\n",
      "------------------------------------\n",
      "Tokens:['Gute', 'organisatorische', 'und', 'konzeptionelle', 'Fähigkeiten'], \n",
      "Doc length:5, \n",
      "Doc length (only alpha):5\n",
      "------------------------------------\n",
      "Tokens:['Teamfähigkeit', ',', 'hohe', 'Flexibilität', 'und', 'Einsatzbereitschaft', '.'], \n",
      "Doc length:7, \n",
      "Doc length (only alpha):5\n",
      "------------------------------------\n"
     ]
    }
   ],
   "source": [
    "# Let's transform it to list \n",
    "raw_text = skills_df['text'].to_list()\n",
    "\n",
    "# Let's check the tokenizer of the first 5 sentences\n",
    "for doc in nlp.pipe(raw_text[:5]):\n",
    "    print(f\"Tokens:{[token.text for token in doc]}, \\nDoc length:{doc._.doc_len}, \\nDoc length (only alpha):{doc._.doc_len_alpha}\")\n",
    "    print(\"------------------------------------\")"
   ]
  },
  {
   "cell_type": "code",
   "execution_count": 17,
   "id": "31525e56",
   "metadata": {},
   "outputs": [
    {
     "name": "stdout",
     "output_type": "stream",
     "text": [
      "CPU times: user 16.6 s, sys: 375 ms, total: 17 s\n",
      "Wall time: 17.1 s\n"
     ]
    }
   ],
   "source": [
    "%%time\n",
    "docs = []\n",
    "tokens = []\n",
    "for doc in nlp.pipe(raw_text, batch_size=100):\n",
    "    docs.append(doc)\n",
    "    tokens.append([token.text for token in doc if token.is_alpha])"
   ]
  },
  {
   "cell_type": "code",
   "execution_count": 18,
   "id": "fa3c475f",
   "metadata": {},
   "outputs": [
    {
     "data": {
      "text/html": [
       "<div>\n",
       "<style scoped>\n",
       "    .dataframe tbody tr th:only-of-type {\n",
       "        vertical-align: middle;\n",
       "    }\n",
       "\n",
       "    .dataframe tbody tr th {\n",
       "        vertical-align: top;\n",
       "    }\n",
       "\n",
       "    .dataframe thead th {\n",
       "        text-align: right;\n",
       "    }\n",
       "</style>\n",
       "<table border=\"1\" class=\"dataframe\">\n",
       "  <thead>\n",
       "    <tr style=\"text-align: right;\">\n",
       "      <th></th>\n",
       "      <th>text</th>\n",
       "      <th>label</th>\n",
       "      <th>doc</th>\n",
       "      <th>tokens</th>\n",
       "    </tr>\n",
       "  </thead>\n",
       "  <tbody>\n",
       "    <tr>\n",
       "      <th>0</th>\n",
       "      <td>Standort Trovarit AG München, Deutschland</td>\n",
       "      <td>none</td>\n",
       "      <td>(Standort, Trovarit, AG, München, ,, Deutschland)</td>\n",
       "      <td>[Standort, Trovarit, AG, München, Deutschland]</td>\n",
       "    </tr>\n",
       "    <tr>\n",
       "      <th>1</th>\n",
       "      <td>Wir freuen uns auf Ihre Bewerbung unter Angabe...</td>\n",
       "      <td>none</td>\n",
       "      <td>(Wir, freuen, uns, auf, Ihre, Bewerbung, unter...</td>\n",
       "      <td>[Wir, freuen, uns, auf, Ihre, Bewerbung, unter...</td>\n",
       "    </tr>\n",
       "    <tr>\n",
       "      <th>2</th>\n",
       "      <td>Qualifikation zur Heimleitung gemäß Heimperson...</td>\n",
       "      <td>tech</td>\n",
       "      <td>(Qualifikation, zur, Heimleitung, gemäß, Heimp...</td>\n",
       "      <td>[Qualifikation, zur, Heimleitung, gemäß, Heimp...</td>\n",
       "    </tr>\n",
       "  </tbody>\n",
       "</table>\n",
       "</div>"
      ],
      "text/plain": [
       "                                                text label  \\\n",
       "0          Standort Trovarit AG München, Deutschland  none   \n",
       "1  Wir freuen uns auf Ihre Bewerbung unter Angabe...  none   \n",
       "2  Qualifikation zur Heimleitung gemäß Heimperson...  tech   \n",
       "\n",
       "                                                 doc  \\\n",
       "0  (Standort, Trovarit, AG, München, ,, Deutschland)   \n",
       "1  (Wir, freuen, uns, auf, Ihre, Bewerbung, unter...   \n",
       "2  (Qualifikation, zur, Heimleitung, gemäß, Heimp...   \n",
       "\n",
       "                                              tokens  \n",
       "0     [Standort, Trovarit, AG, München, Deutschland]  \n",
       "1  [Wir, freuen, uns, auf, Ihre, Bewerbung, unter...  \n",
       "2  [Qualifikation, zur, Heimleitung, gemäß, Heimp...  "
      ]
     },
     "execution_count": 18,
     "metadata": {},
     "output_type": "execute_result"
    }
   ],
   "source": [
    "## Assign it to the DF \n",
    "skills_df['doc'] = pd.Series(docs)\n",
    "skills_df['tokens'] = pd.Series(tokens)\n",
    "skills_df.head(3)"
   ]
  },
  {
   "cell_type": "markdown",
   "id": "cd131b3c",
   "metadata": {},
   "source": [
    "**Let's check the first sentence and how it was processed by the model**"
   ]
  },
  {
   "cell_type": "code",
   "execution_count": 19,
   "id": "9492281c",
   "metadata": {},
   "outputs": [
    {
     "data": {
      "text/plain": [
       "'Wir freuen uns auf Ihre Bewerbung unter Angabe Ihrer Gehaltsvorstellung und Ihres möglichen Eintrittstermins. Der ALTE LEIPZIGER – HALLESCHE Konzern begrüßt ausdrücklich die Bewerbung von Menschen mit Behinderung. Bei Fragen und für weitere Informationen wenden Sie sich gerne an Elke Lang unter 0711-6603-2411 . Ihre ausführlichen Bewerbungsunterlagen senden Sie bitte an bewerbung@hallesche.de oder per Post an: HALLESCHE Krankenversicherung a. G. Personal und Soziales Reinsburgstraße 10 70178 Stuttgart www.hallesche.de'"
      ]
     },
     "execution_count": 19,
     "metadata": {},
     "output_type": "execute_result"
    }
   ],
   "source": [
    "raw_text[1]"
   ]
  },
  {
   "cell_type": "code",
   "execution_count": 20,
   "id": "4311146f",
   "metadata": {},
   "outputs": [
    {
     "name": "stdout",
     "output_type": "stream",
     "text": [
      "59 ['Wir', 'freuen', 'uns', 'auf', 'Ihre', 'Bewerbung', 'unter', 'Angabe', 'Ihrer', 'Gehaltsvorstellung', 'und', 'Ihres', 'möglichen', 'Eintrittstermins', 'Der', 'ALTE', 'LEIPZIGER', 'HALLESCHE', 'Konzern', 'begrüßt', 'ausdrücklich', 'die', 'Bewerbung', 'von', 'Menschen', 'mit', 'Behinderung', 'Bei', 'Fragen', 'und', 'für', 'weitere', 'Informationen', 'wenden', 'Sie', 'sich', 'gerne', 'an', 'Elke', 'Lang', 'unter', 'Ihre', 'ausführlichen', 'Bewerbungsunterlagen', 'senden', 'Sie', 'bitte', 'an', 'oder', 'per', 'Post', 'an', 'HALLESCHE', 'Krankenversicherung', 'Personal', 'und', 'Soziales', 'Reinsburgstraße', 'Stuttgart']\n"
     ]
    }
   ],
   "source": [
    "print(len(tokens[1]), tokens[1])"
   ]
  },
  {
   "cell_type": "markdown",
   "id": "0a5de42c",
   "metadata": {},
   "source": [
    "## 1.4.1 **Top-50 most Frequent Words**  <a name=\"top50\"></a>\n",
    "\n",
    "*Observation notes*: \n",
    "\n",
    "- We can see the most common words are usually words that are stopwords, like `und`, `mit`. \n",
    "- 62% of the Top 50 frequent words are stopwords. We should check this at the time we are performing modeling, sometimes this is not relevant for models, but for Classification it might, for example: \n",
    "    - If we are predicting something like having certain skills or not and someone puts that it doesn't perform well under pressure, and we remove the negation, the classifier might predict otherwise. \n",
    "    - On this particular case it might be Ok, but we will see in our set of experiments"
   ]
  },
  {
   "cell_type": "code",
   "execution_count": 21,
   "id": "6a19bba0",
   "metadata": {},
   "outputs": [
    {
     "data": {
      "image/png": "[encoded data removed]",
      "text/plain": [
       "<Figure size 1500x800 with 1 Axes>"
      ]
     },
     "metadata": {},
     "output_type": "display_data"
    }
   ],
   "source": [
    "word_by_frequency = pd.Series(\" \".join(skills_df[\"tokens\"].apply(lambda t: \" \".join(t))).split()).value_counts()\n",
    "top_50_words = word_by_frequency[:50]\n",
    "plt.figure(figsize=(15,8))\n",
    "top_50_words.plot.bar(rot=0, grid=True, color=\"blue\", alpha=0.5)\n",
    "\n",
    "plt.xticks(rotation = 50)\n",
    "plt.show()"
   ]
  },
  {
   "cell_type": "code",
   "execution_count": 22,
   "id": "62710f9c",
   "metadata": {},
   "outputs": [
    {
     "data": {
      "text/html": [
       "<div>\n",
       "<style scoped>\n",
       "    .dataframe tbody tr th:only-of-type {\n",
       "        vertical-align: middle;\n",
       "    }\n",
       "\n",
       "    .dataframe tbody tr th {\n",
       "        vertical-align: top;\n",
       "    }\n",
       "\n",
       "    .dataframe thead th {\n",
       "        text-align: right;\n",
       "    }\n",
       "</style>\n",
       "<table border=\"1\" class=\"dataframe\">\n",
       "  <thead>\n",
       "    <tr style=\"text-align: right;\">\n",
       "      <th></th>\n",
       "      <th>word</th>\n",
       "      <th>0</th>\n",
       "    </tr>\n",
       "  </thead>\n",
       "  <tbody>\n",
       "    <tr>\n",
       "      <th>0</th>\n",
       "      <td>und</td>\n",
       "      <td>5732</td>\n",
       "    </tr>\n",
       "    <tr>\n",
       "      <th>1</th>\n",
       "      <td>in</td>\n",
       "      <td>1778</td>\n",
       "    </tr>\n",
       "    <tr>\n",
       "      <th>2</th>\n",
       "      <td>Sie</td>\n",
       "      <td>1717</td>\n",
       "    </tr>\n",
       "    <tr>\n",
       "      <th>3</th>\n",
       "      <td>der</td>\n",
       "      <td>1347</td>\n",
       "    </tr>\n",
       "    <tr>\n",
       "      <th>4</th>\n",
       "      <td>mit</td>\n",
       "      <td>1248</td>\n",
       "    </tr>\n",
       "  </tbody>\n",
       "</table>\n",
       "</div>"
      ],
      "text/plain": [
       "  word     0\n",
       "0  und  5732\n",
       "1   in  1778\n",
       "2  Sie  1717\n",
       "3  der  1347\n",
       "4  mit  1248"
      ]
     },
     "execution_count": 22,
     "metadata": {},
     "output_type": "execute_result"
    }
   ],
   "source": [
    "top_50_df = top_50_words.to_frame().reset_index()\n",
    "top_50_df.rename(columns = {'index':'word'}, inplace=True)\n",
    "top_50_df.head()"
   ]
  },
  {
   "cell_type": "code",
   "execution_count": 23,
   "id": "6014eb44",
   "metadata": {},
   "outputs": [
    {
     "data": {
      "text/plain": [
       "True     27\n",
       "False    23\n",
       "Name: word, dtype: int64"
      ]
     },
     "execution_count": 23,
     "metadata": {},
     "output_type": "execute_result"
    }
   ],
   "source": [
    "top_50_df['word'].isin(de_stop_words).value_counts()"
   ]
  },
  {
   "cell_type": "markdown",
   "id": "33ce4a16",
   "metadata": {},
   "source": [
    "**Check the words that are not stop words in the top 50** \n",
    "\n",
    "- `kenntnisse` --> Knowledge\n",
    "- `arbeitsweise` --> Way of working \n",
    "- `teamfähigkeit` --> Team Work \n",
    "- `englischkenntnisse` --> Knows english\n",
    "\n",
    "\n",
    "We can see this might be signals that could be used by the classifier to effectively perform its prediction towards certain skill"
   ]
  },
  {
   "cell_type": "code",
   "execution_count": 24,
   "id": "f72ed507",
   "metadata": {
    "scrolled": true
   },
   "outputs": [
    {
     "data": {
      "text/html": [
       "<div>\n",
       "<style scoped>\n",
       "    .dataframe tbody tr th:only-of-type {\n",
       "        vertical-align: middle;\n",
       "    }\n",
       "\n",
       "    .dataframe tbody tr th {\n",
       "        vertical-align: top;\n",
       "    }\n",
       "\n",
       "    .dataframe thead th {\n",
       "        text-align: right;\n",
       "    }\n",
       "</style>\n",
       "<table border=\"1\" class=\"dataframe\">\n",
       "  <thead>\n",
       "    <tr style=\"text-align: right;\">\n",
       "      <th></th>\n",
       "      <th>word</th>\n",
       "      <th>0</th>\n",
       "    </tr>\n",
       "  </thead>\n",
       "  <tbody>\n",
       "    <tr>\n",
       "      <th>2</th>\n",
       "      <td>Sie</td>\n",
       "      <td>1717</td>\n",
       "    </tr>\n",
       "    <tr>\n",
       "      <th>5</th>\n",
       "      <td>Kenntnisse</td>\n",
       "      <td>1105</td>\n",
       "    </tr>\n",
       "    <tr>\n",
       "      <th>16</th>\n",
       "      <td>GmbH</td>\n",
       "      <td>514</td>\n",
       "    </tr>\n",
       "    <tr>\n",
       "      <th>17</th>\n",
       "      <td>Ihre</td>\n",
       "      <td>500</td>\n",
       "    </tr>\n",
       "    <tr>\n",
       "      <th>18</th>\n",
       "      <td>Deutschland</td>\n",
       "      <td>486</td>\n",
       "    </tr>\n",
       "    <tr>\n",
       "      <th>19</th>\n",
       "      <td>Arbeitsweise</td>\n",
       "      <td>474</td>\n",
       "    </tr>\n",
       "    <tr>\n",
       "      <th>20</th>\n",
       "      <td>Umgang</td>\n",
       "      <td>436</td>\n",
       "    </tr>\n",
       "    <tr>\n",
       "      <th>21</th>\n",
       "      <td>Standort</td>\n",
       "      <td>426</td>\n",
       "    </tr>\n",
       "    <tr>\n",
       "      <th>28</th>\n",
       "      <td>Gute</td>\n",
       "      <td>376</td>\n",
       "    </tr>\n",
       "    <tr>\n",
       "      <th>29</th>\n",
       "      <td>Sehr</td>\n",
       "      <td>372</td>\n",
       "    </tr>\n",
       "    <tr>\n",
       "      <th>30</th>\n",
       "      <td>m</td>\n",
       "      <td>343</td>\n",
       "    </tr>\n",
       "    <tr>\n",
       "      <th>31</th>\n",
       "      <td>w</td>\n",
       "      <td>336</td>\n",
       "    </tr>\n",
       "    <tr>\n",
       "      <th>33</th>\n",
       "      <td>Teamfähigkeit</td>\n",
       "      <td>320</td>\n",
       "    </tr>\n",
       "    <tr>\n",
       "      <th>35</th>\n",
       "      <td>Englischkenntnisse</td>\n",
       "      <td>296</td>\n",
       "    </tr>\n",
       "    <tr>\n",
       "      <th>36</th>\n",
       "      <td>Wir</td>\n",
       "      <td>289</td>\n",
       "    </tr>\n",
       "    <tr>\n",
       "      <th>37</th>\n",
       "      <td>Bereich</td>\n",
       "      <td>258</td>\n",
       "    </tr>\n",
       "    <tr>\n",
       "      <th>39</th>\n",
       "      <td>Schrift</td>\n",
       "      <td>253</td>\n",
       "    </tr>\n",
       "    <tr>\n",
       "      <th>40</th>\n",
       "      <td>Wort</td>\n",
       "      <td>252</td>\n",
       "    </tr>\n",
       "    <tr>\n",
       "      <th>42</th>\n",
       "      <td>MS</td>\n",
       "      <td>250</td>\n",
       "    </tr>\n",
       "    <tr>\n",
       "      <th>44</th>\n",
       "      <td>Kontakt</td>\n",
       "      <td>245</td>\n",
       "    </tr>\n",
       "    <tr>\n",
       "      <th>45</th>\n",
       "      <td>Flexibilität</td>\n",
       "      <td>244</td>\n",
       "    </tr>\n",
       "    <tr>\n",
       "      <th>47</th>\n",
       "      <td>Ihr</td>\n",
       "      <td>236</td>\n",
       "    </tr>\n",
       "    <tr>\n",
       "      <th>49</th>\n",
       "      <td>Auftreten</td>\n",
       "      <td>228</td>\n",
       "    </tr>\n",
       "  </tbody>\n",
       "</table>\n",
       "</div>"
      ],
      "text/plain": [
       "                  word     0\n",
       "2                  Sie  1717\n",
       "5           Kenntnisse  1105\n",
       "16                GmbH   514\n",
       "17                Ihre   500\n",
       "18         Deutschland   486\n",
       "19        Arbeitsweise   474\n",
       "20              Umgang   436\n",
       "21            Standort   426\n",
       "28                Gute   376\n",
       "29                Sehr   372\n",
       "30                   m   343\n",
       "31                   w   336\n",
       "33       Teamfähigkeit   320\n",
       "35  Englischkenntnisse   296\n",
       "36                 Wir   289\n",
       "37             Bereich   258\n",
       "39             Schrift   253\n",
       "40                Wort   252\n",
       "42                  MS   250\n",
       "44             Kontakt   245\n",
       "45        Flexibilität   244\n",
       "47                 Ihr   236\n",
       "49           Auftreten   228"
      ]
     },
     "execution_count": 24,
     "metadata": {},
     "output_type": "execute_result"
    }
   ],
   "source": [
    "top_50_df[top_50_df['word'].isin(de_stop_words) == False]"
   ]
  },
  {
   "cell_type": "markdown",
   "id": "189e0432",
   "metadata": {},
   "source": [
    "### 1.4.2 Uncommon words <a name=\"uncommon\"></a>\n",
    "\n",
    "Let's check the uncommon words as it also might give us some guidance of words that might not be useful for the model.\n",
    "\n",
    "**Observation Notes**: \n",
    "\n",
    "- It seems a big part of the uncommon words refers to specifics of a skill such as:\n",
    "    - `Cloudservices`\n",
    "    - `FrameMaker`\n",
    "    - `NetApp`\n",
    "    - `Storagelösungen` --> Storage solutions"
   ]
  },
  {
   "cell_type": "code",
   "execution_count": 25,
   "id": "bc3dca75",
   "metadata": {},
   "outputs": [
    {
     "data": {
      "text/plain": [
       "Healthcheck                1\n",
       "Bypassing                  1\n",
       "Gültige                    1\n",
       "ESX                        1\n",
       "umsetzungsstarke           1\n",
       "Bürogebäude                1\n",
       "Oh                         1\n",
       "my                         1\n",
       "Maximalgröße               1\n",
       "überschreiten              1\n",
       "Cloudservices              1\n",
       "annehmen                   1\n",
       "FrameMaker                 1\n",
       "NetApp                     1\n",
       "Isilon                     1\n",
       "EMC                        1\n",
       "Storagelösungen            1\n",
       "Interfaces                 1\n",
       "Anwendungsmöglichkeiten    1\n",
       "Tatsachen                  1\n",
       "scheinbare                 1\n",
       "Damenschuhe                1\n",
       "Spitzenstellung            1\n",
       "Schuhherstellern           1\n",
       "bedeutendsten              1\n",
       "Gebäudebestand             1\n",
       "umfangreichen              1\n",
       "übergemeindlichen          1\n",
       "Kirchengemeinden           1\n",
       "WPR                        1\n",
       "dtype: int64"
      ]
     },
     "execution_count": 25,
     "metadata": {},
     "output_type": "execute_result"
    }
   ],
   "source": [
    "uncommon_words = word_by_frequency[-30:]\n",
    "uncommon_words"
   ]
  },
  {
   "cell_type": "markdown",
   "id": "9ff08ac9",
   "metadata": {},
   "source": [
    "## 1.5 Distribution of Tokens per Document and per class <a name=\"distpertoken\"></a>\n",
    "\n",
    "**Notes**:\n",
    "- We can observe we have a long tailed distribution of tokens per document, where:\n",
    "    - Average doc len is around 8 tokens per Document \n",
    "    - Max tokens per doc is 213 \n",
    "    - Min tokens per doc is 0: (**We should take a look into this as we might need to remove it before training**)"
   ]
  },
  {
   "cell_type": "code",
   "execution_count": 26,
   "id": "0d629a82",
   "metadata": {},
   "outputs": [],
   "source": [
    "import seaborn as sns"
   ]
  },
  {
   "cell_type": "code",
   "execution_count": 27,
   "id": "3f1c835c",
   "metadata": {},
   "outputs": [
    {
     "data": {
      "image/png": "[encoded data removed]",
      "text/plain": [
       "<Figure size 1200x800 with 1 Axes>"
      ]
     },
     "metadata": {},
     "output_type": "display_data"
    }
   ],
   "source": [
    "df_dist_tokens_per_doc = skills_df['doc'].apply(lambda d: d._.doc_len_alpha).to_frame()\n",
    "plt.figure(figsize=(12,8))\n",
    "sns.histplot(df_dist_tokens_per_doc[\"doc\"], kde=True, stat=\"count\", color='purple', alpha=0.4, bins=50)\n",
    "plt.xlabel(\"Tokens per Doc\")\n",
    "plt.ylabel(\"Number of Docs\")\n",
    "plt.title(\"Distribution of Tokens per Doc\")\n",
    "plt.show()"
   ]
  },
  {
   "cell_type": "code",
   "execution_count": 28,
   "id": "24356613",
   "metadata": {},
   "outputs": [
    {
     "data": {
      "text/plain": [
       "count    10249.000000\n",
       "mean         8.855596\n",
       "std         10.781777\n",
       "min          0.000000\n",
       "25%          4.000000\n",
       "50%          6.000000\n",
       "75%         11.000000\n",
       "max        213.000000\n",
       "Name: doc, dtype: float64"
      ]
     },
     "execution_count": 28,
     "metadata": {},
     "output_type": "execute_result"
    }
   ],
   "source": [
    "df_dist_tokens_per_doc[\"doc\"].describe()"
   ]
  },
  {
   "cell_type": "markdown",
   "id": "f565428c",
   "metadata": {},
   "source": [
    "Let's calculate the number of Docs where the size of tokens is empty and also check how many per class\n",
    "\n",
    "*Notes*\n",
    "- 2% of Documents ( around 200~) are empty, we will remove this at cleaning time. \n",
    "- Observing a sample of this documents, we can see that much of them were removed because we have filtered by alpha and they contain hyphens, or only numbers. \n",
    "- Some of this examples with hyphens are skills like: `EDV-Anwenderkenntnisse` --> IT user skills, this might add value to our classifier but for now let's leave it out. ( We can revisit later on )"
   ]
  },
  {
   "cell_type": "code",
   "execution_count": 29,
   "id": "a8c56529",
   "metadata": {},
   "outputs": [
    {
     "name": "stdout",
     "output_type": "stream",
     "text": [
      "Ratio of empty docs after cleaning: 2%\n"
     ]
    }
   ],
   "source": [
    "ratio_empty = df_dist_tokens_per_doc[df_dist_tokens_per_doc['doc'] < 1].shape[0]/skills_df.shape[0] * 100\n",
    "print(f\"Ratio of empty docs after cleaning: {round(ratio_empty)}%\")"
   ]
  },
  {
   "cell_type": "code",
   "execution_count": 30,
   "id": "ee25264b",
   "metadata": {},
   "outputs": [
    {
     "data": {
      "text/html": [
       "<div>\n",
       "<style scoped>\n",
       "    .dataframe tbody tr th:only-of-type {\n",
       "        vertical-align: middle;\n",
       "    }\n",
       "\n",
       "    .dataframe tbody tr th {\n",
       "        vertical-align: top;\n",
       "    }\n",
       "\n",
       "    .dataframe thead th {\n",
       "        text-align: right;\n",
       "    }\n",
       "</style>\n",
       "<table border=\"1\" class=\"dataframe\">\n",
       "  <thead>\n",
       "    <tr style=\"text-align: right;\">\n",
       "      <th></th>\n",
       "      <th>text</th>\n",
       "      <th>label</th>\n",
       "      <th>doc</th>\n",
       "      <th>tokens</th>\n",
       "    </tr>\n",
       "  </thead>\n",
       "  <tbody>\n",
       "    <tr>\n",
       "      <th>39</th>\n",
       "      <td>Pkw-Führerschein</td>\n",
       "      <td>soft</td>\n",
       "      <td>(Pkw-Führerschein)</td>\n",
       "      <td>[]</td>\n",
       "    </tr>\n",
       "    <tr>\n",
       "      <th>420</th>\n",
       "      <td>IT-Affinität.</td>\n",
       "      <td>tech</td>\n",
       "      <td>(IT-Affinität, .)</td>\n",
       "      <td>[]</td>\n",
       "    </tr>\n",
       "    <tr>\n",
       "      <th>424</th>\n",
       "      <td>Www.bode-chemie.de.</td>\n",
       "      <td>none</td>\n",
       "      <td>(Www.bode-chemie.de, .)</td>\n",
       "      <td>[]</td>\n",
       "    </tr>\n",
       "    <tr>\n",
       "      <th>427</th>\n",
       "      <td>KFZ-Führerschein</td>\n",
       "      <td>tech</td>\n",
       "      <td>(KFZ-Führerschein)</td>\n",
       "      <td>[]</td>\n",
       "    </tr>\n",
       "    <tr>\n",
       "      <th>527</th>\n",
       "      <td>Hands-on-Mentalität.</td>\n",
       "      <td>soft</td>\n",
       "      <td>(Hands-on-Mentalität, .)</td>\n",
       "      <td>[]</td>\n",
       "    </tr>\n",
       "    <tr>\n",
       "      <th>528</th>\n",
       "      <td>Junior-Vertriebsmitarbeiter/-in</td>\n",
       "      <td>none</td>\n",
       "      <td>(Junior-Vertriebsmitarbeiter/-in)</td>\n",
       "      <td>[]</td>\n",
       "    </tr>\n",
       "    <tr>\n",
       "      <th>604</th>\n",
       "      <td>EDV-Anwenderkenntnisse</td>\n",
       "      <td>tech</td>\n",
       "      <td>(EDV-Anwenderkenntnisse)</td>\n",
       "      <td>[]</td>\n",
       "    </tr>\n",
       "    <tr>\n",
       "      <th>616</th>\n",
       "      <td>MS-Office-Know-how.</td>\n",
       "      <td>tech</td>\n",
       "      <td>(MS-Office-Know-how, .)</td>\n",
       "      <td>[]</td>\n",
       "    </tr>\n",
       "    <tr>\n",
       "      <th>699</th>\n",
       "      <td>VPN-Bausteine Internet-Bausteine Telefonie-Bau...</td>\n",
       "      <td>none</td>\n",
       "      <td>(VPN-Bausteine, Internet-Bausteine, Telefonie-...</td>\n",
       "      <td>[]</td>\n",
       "    </tr>\n",
       "    <tr>\n",
       "      <th>876</th>\n",
       "      <td>+49 (0) 49 54 - 89 3 88-100</td>\n",
       "      <td>none</td>\n",
       "      <td>(+49, (, 0, ), 49, 54, -, 89, 3, 88, -, 100)</td>\n",
       "      <td>[]</td>\n",
       "    </tr>\n",
       "  </tbody>\n",
       "</table>\n",
       "</div>"
      ],
      "text/plain": [
       "                                                  text label  \\\n",
       "39                                    Pkw-Führerschein  soft   \n",
       "420                                      IT-Affinität.  tech   \n",
       "424                                Www.bode-chemie.de.  none   \n",
       "427                                   KFZ-Führerschein  tech   \n",
       "527                               Hands-on-Mentalität.  soft   \n",
       "528                    Junior-Vertriebsmitarbeiter/-in  none   \n",
       "604                             EDV-Anwenderkenntnisse  tech   \n",
       "616                                MS-Office-Know-how.  tech   \n",
       "699  VPN-Bausteine Internet-Bausteine Telefonie-Bau...  none   \n",
       "876                        +49 (0) 49 54 - 89 3 88-100  none   \n",
       "\n",
       "                                                   doc tokens  \n",
       "39                                  (Pkw-Führerschein)     []  \n",
       "420                                  (IT-Affinität, .)     []  \n",
       "424                            (Www.bode-chemie.de, .)     []  \n",
       "427                                 (KFZ-Führerschein)     []  \n",
       "527                           (Hands-on-Mentalität, .)     []  \n",
       "528                  (Junior-Vertriebsmitarbeiter/-in)     []  \n",
       "604                           (EDV-Anwenderkenntnisse)     []  \n",
       "616                            (MS-Office-Know-how, .)     []  \n",
       "699  (VPN-Bausteine, Internet-Bausteine, Telefonie-...     []  \n",
       "876       (+49, (, 0, ), 49, 54, -, 89, 3, 88, -, 100)     []  "
      ]
     },
     "execution_count": 30,
     "metadata": {},
     "output_type": "execute_result"
    }
   ],
   "source": [
    "skills_df.iloc[df_dist_tokens_per_doc[df_dist_tokens_per_doc['doc'] < 1].index].head(10)"
   ]
  }
 ],
 "metadata": {
  "kernelspec": {
   "display_name": "Python 3 (ipykernel)",
   "language": "python",
   "name": "python3"
  },
  "language_info": {
   "codemirror_mode": {
    "name": "ipython",
    "version": 3
   },
   "file_extension": ".py",
   "mimetype": "text/x-python",
   "name": "python",
   "nbconvert_exporter": "python",
   "pygments_lexer": "ipython3",
   "version": "3.9.15"
  }
 },
 "nbformat": 4,
 "nbformat_minor": 5
}
